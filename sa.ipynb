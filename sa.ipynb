{
 "cells": [
  {
   "cell_type": "code",
   "execution_count": 2,
   "metadata": {},
   "outputs": [],
   "source": [
    "import re\n",
    "import tweepy\n",
    "from tweepy import OAuthHandler\n",
    "from textblob import TextBlob"
   ]
  },
  {
   "cell_type": "code",
   "execution_count": 3,
   "metadata": {},
   "outputs": [],
   "source": [
    "def authenticate():\n",
    "  # keys and tokens from the Twitter Dev Console\n",
    "  consumer_key = '4KzIFprHyNApHjsXOg1OEfJ3c'\n",
    "  consumer_secret = 'hpBzI2SicsaNqIluwWeK3nySKiDHvSBXmSamKT1cppcXceh59J'\n",
    "  access_token = '197883124-T8c2XZT0Aa3WGl5cm4Xoe2LZp36lvn5wayU6dHq9'\n",
    "  access_token_secret = 'NQiqWjqqPkjPgvC7xgZBHHhWaVMqmMSDM6CDf2YDFnAGC'\n",
    "\n",
    "  # attempt authentication\n",
    "  try:\n",
    "    # create OAuthHandler object\n",
    "    auth = OAuthHandler(consumer_key, consumer_secret)\n",
    "    # set access token and secret\n",
    "    auth.set_access_token(access_token, access_token_secret)\n",
    "    # create tweepy API object to fetch tweets\n",
    "    print(\"Authenticating...\")\n",
    "    api = tweepy.API(auth)\n",
    "    print(\"API value:....   \", api)\n",
    "    return api\n",
    "  except:\n",
    "    print(\"Error: Authentication Failed\")"
   ]
  },
  {
   "cell_type": "code",
   "execution_count": 4,
   "metadata": {},
   "outputs": [
    {
     "name": "stdout",
     "output_type": "stream",
     "text": [
      "Authenticating...\n",
      "API value:....    <tweepy.api.API object at 0x7ff4214b3970>\n"
     ]
    }
   ],
   "source": [
    "API = authenticate()"
   ]
  },
  {
   "cell_type": "code",
   "execution_count": 5,
   "metadata": {},
   "outputs": [],
   "source": [
    "def clean_tweet(tweet):\n",
    "  '''\n",
    "  Utility function to clean tweet text by removing links, special characters\n",
    "  using simple regex statements.\n",
    "  '''\n",
    "  return ' '.join(re.sub(\"(@[A-Za-z0-9]+)|([^0-9A-Za-z \\t])|(\\w+:\\/\\/\\S+)\", \" \", tweet).split())"
   ]
  },
  {
   "cell_type": "code",
   "execution_count": 6,
   "metadata": {},
   "outputs": [],
   "source": [
    "def get_tweet_sentiment(tweet):\n",
    "  '''\n",
    "  Utility function to classify sentiment of passed tweet\n",
    "  using textblob's sentiment method\n",
    "  '''\n",
    "  # create TextBlob object of passed tweet text\n",
    "  analysis = TextBlob(clean_tweet(tweet))\n",
    "  # set sentiment\n",
    "  if analysis.sentiment.polarity > 0:\n",
    "    return 'positive'\n",
    "  elif analysis.sentiment.polarity == 0:\n",
    "    return 'neutral'\n",
    "  else:\n",
    "    return 'negative'"
   ]
  },
  {
   "cell_type": "code",
   "execution_count": 7,
   "metadata": {},
   "outputs": [],
   "source": [
    "def get_tweets(query, geocode = '53.5500,2.4333,1mi', count = 10):\n",
    "  '''\n",
    "  Main function to fetch tweets and parse them.\n",
    "  '''\n",
    "  # empty list to store parsed tweets\n",
    "  tweets = []\n",
    "\n",
    "  try:\n",
    "    # call twitter api to fetch tweets\n",
    "    fetched_tweets = API.search_tweets(q = query, count = count)\n",
    "\n",
    "    # parsing tweets one by one\n",
    "    for tweet in fetched_tweets:\n",
    "      # empty dictionary to store required params of a tweet\n",
    "      parsed_tweet = {}\n",
    "\n",
    "      # saving text of tweet\n",
    "      parsed_tweet['text'] = tweet.text\n",
    "      # saving sentiment of tweet\n",
    "      parsed_tweet['sentiment'] = get_tweet_sentiment(tweet.text)\n",
    "\n",
    "      # appending parsed tweet to tweets list\n",
    "      if tweet.retweet_count > 0:\n",
    "        # if tweet has retweets, ensure that it is appended only once\n",
    "        if parsed_tweet not in tweets:\n",
    "          tweets.append(parsed_tweet)\n",
    "      else:\n",
    "        tweets.append(parsed_tweet)\n",
    "\n",
    "    # return parsed tweets\n",
    "    return tweets\n",
    "\n",
    "  except Exception as e:\n",
    "    # print error (if any)\n",
    "    print(\"Error getting tweets\", e)\n"
   ]
  },
  {
   "cell_type": "code",
   "execution_count": 8,
   "metadata": {},
   "outputs": [],
   "source": [
    "def sentiment_analysis():\n",
    "\n",
    "  # calling function to get tweets\n",
    "  tweets = get_tweets(query = 'Education and the UK Government')\n",
    "  # print(tweets)\n",
    "  # picking positive tweets from tweets\n",
    "  ptweets = [tweet for tweet in tweets if tweet['sentiment'] == 'positive']\n",
    "  # percentage of positive tweets\n",
    "  print(\"Positive tweets percentage: {} %\".format(100*len(ptweets)/len(tweets)))\n",
    "  # picking negative tweets from tweets\n",
    "  ntweets = [tweet for tweet in tweets if tweet['sentiment'] == 'negative']\n",
    "  # percentage of negative tweets\n",
    "  print(\"Negative tweets percentage: {} %\".format(100*len(ntweets)/len(tweets)))\n",
    "  # percentage of neutral tweets\n",
    "  print(\"Neutral tweets percentage: {} % \\\n",
    "    \".format(100*(len(tweets) -(len( ntweets )+len( ptweets)))/len(tweets)))\n",
    "\n",
    "  # printing first 5 positive tweets\n",
    "  print(\"\\n\\nPositive tweets:\")\n",
    "  for tweet in ptweets[:10]:\n",
    "    print(tweet['text'])\n",
    "\n",
    "  # printing first 5 negative tweets\n",
    "  print(\"\\n\\nNegative tweets:\")\n",
    "  for tweet in ntweets[:10]:\n",
    "    print(tweet['text'])"
   ]
  },
  {
   "cell_type": "code",
   "execution_count": 9,
   "metadata": {},
   "outputs": [
    {
     "name": "stdout",
     "output_type": "stream",
     "text": [
      "Positive tweets percentage: 50.0 %\n",
      "Negative tweets percentage: 16.666666666666668 %\n",
      "Neutral tweets percentage: 33.333333333333336 %     \n",
      "\n",
      "\n",
      "Positive tweets:\n",
      "RT @FENews: The SEND Review: Why can’t the Government get it right?: The Government’s SEND and Alternative Provision Green Paper and subseq…\n",
      "RT @Elizabe62115581: @warren00824623 Yes the whole of my family voted for Brexit still feel the same. I do wish we could vote on Devolution…\n",
      "A government-funded programme has given Suffolk students the chance to study in Thailand with another successful bi… https://t.co/tXGEg7iLlU\n",
      "\n",
      "\n",
      "Negative tweets:\n",
      "@jackiebmsp @HumzaYousaf The Scottish government are still paying the bills left behind by labour yet still outperf… https://t.co/22gzu2ABep\n"
     ]
    }
   ],
   "source": [
    "sentiment_analysis()"
   ]
  },
  {
   "cell_type": "code",
   "execution_count": null,
   "metadata": {},
   "outputs": [],
   "source": []
  }
 ],
 "metadata": {
  "kernelspec": {
   "display_name": "Python 3.8.13 ('base')",
   "language": "python",
   "name": "python3"
  },
  "language_info": {
   "codemirror_mode": {
    "name": "ipython",
    "version": 3
   },
   "file_extension": ".py",
   "mimetype": "text/x-python",
   "name": "python",
   "nbconvert_exporter": "python",
   "pygments_lexer": "ipython3",
   "version": "3.8.13"
  },
  "orig_nbformat": 4,
  "vscode": {
   "interpreter": {
    "hash": "5d3878fddc9c46165445784a10b090b010bb1a0b9835785e50e8f56ead986c33"
   }
  }
 },
 "nbformat": 4,
 "nbformat_minor": 2
}
