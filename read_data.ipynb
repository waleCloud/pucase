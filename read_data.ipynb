{
 "cells": [
  {
   "cell_type": "code",
   "execution_count": 14,
   "metadata": {},
   "outputs": [],
   "source": [
    "import pandas as pd\n",
    "import matplotlib.pyplot as plt\n",
    "import re\n",
    "from textblob import TextBlob\n",
    "import numpy as np"
   ]
  },
  {
   "cell_type": "code",
   "execution_count": 2,
   "metadata": {},
   "outputs": [],
   "source": [
    "data = pd.read_csv('./data.csv')"
   ]
  },
  {
   "cell_type": "code",
   "execution_count": 5,
   "metadata": {},
   "outputs": [
    {
     "data": {
      "text/html": [
       "<div>\n",
       "<style scoped>\n",
       "    .dataframe tbody tr th:only-of-type {\n",
       "        vertical-align: middle;\n",
       "    }\n",
       "\n",
       "    .dataframe tbody tr th {\n",
       "        vertical-align: top;\n",
       "    }\n",
       "\n",
       "    .dataframe thead th {\n",
       "        text-align: right;\n",
       "    }\n",
       "</style>\n",
       "<table border=\"1\" class=\"dataframe\">\n",
       "  <thead>\n",
       "    <tr style=\"text-align: right;\">\n",
       "      <th></th>\n",
       "      <th>author id</th>\n",
       "      <th>created_at</th>\n",
       "      <th>geo</th>\n",
       "      <th>id</th>\n",
       "      <th>lang</th>\n",
       "      <th>like_count</th>\n",
       "      <th>quote_count</th>\n",
       "      <th>reply_count</th>\n",
       "      <th>retweet_count</th>\n",
       "      <th>source</th>\n",
       "      <th>tweet</th>\n",
       "    </tr>\n",
       "  </thead>\n",
       "  <tbody>\n",
       "    <tr>\n",
       "      <th>1332</th>\n",
       "      <td>2972137908</td>\n",
       "      <td>2022-01-29 20:10:31+00:00</td>\n",
       "      <td></td>\n",
       "      <td>1487518538826924044</td>\n",
       "      <td>en</td>\n",
       "      <td>2</td>\n",
       "      <td>0</td>\n",
       "      <td>0</td>\n",
       "      <td>0</td>\n",
       "      <td>Twitter for iPhone</td>\n",
       "      <td>Thank you for being a part of Sharjah's story ...</td>\n",
       "    </tr>\n",
       "    <tr>\n",
       "      <th>1333</th>\n",
       "      <td>2469371420</td>\n",
       "      <td>2022-01-29 20:10:23+00:00</td>\n",
       "      <td></td>\n",
       "      <td>1487518506534985729</td>\n",
       "      <td>en</td>\n",
       "      <td>0</td>\n",
       "      <td>0</td>\n",
       "      <td>0</td>\n",
       "      <td>115</td>\n",
       "      <td>Twitter for Android</td>\n",
       "      <td>RT @RichkingSimz: Dear Zimbabweans and African...</td>\n",
       "    </tr>\n",
       "    <tr>\n",
       "      <th>1334</th>\n",
       "      <td>1129033790616154114</td>\n",
       "      <td>2022-01-29 20:10:05+00:00</td>\n",
       "      <td></td>\n",
       "      <td>1487518432232882182</td>\n",
       "      <td>en</td>\n",
       "      <td>0</td>\n",
       "      <td>0</td>\n",
       "      <td>0</td>\n",
       "      <td>76</td>\n",
       "      <td>Twitter for Android</td>\n",
       "      <td>RT @Dr_Adeleke: 1. New Zealand Govtn scholarsh...</td>\n",
       "    </tr>\n",
       "    <tr>\n",
       "      <th>1335</th>\n",
       "      <td>240410888</td>\n",
       "      <td>2022-01-29 20:10:02+00:00</td>\n",
       "      <td></td>\n",
       "      <td>1487518417028587523</td>\n",
       "      <td>en</td>\n",
       "      <td>2</td>\n",
       "      <td>0</td>\n",
       "      <td>0</td>\n",
       "      <td>0</td>\n",
       "      <td>Hootsuite Inc.</td>\n",
       "      <td>We are looking for multi-lingual tutors to (vi...</td>\n",
       "    </tr>\n",
       "    <tr>\n",
       "      <th>1336</th>\n",
       "      <td>1291042589269823488</td>\n",
       "      <td>2022-01-29 20:10:01+00:00</td>\n",
       "      <td></td>\n",
       "      <td>1487518414650281986</td>\n",
       "      <td>en</td>\n",
       "      <td>0</td>\n",
       "      <td>0</td>\n",
       "      <td>0</td>\n",
       "      <td>218</td>\n",
       "      <td>Twitter for Android</td>\n",
       "      <td>RT @TrinankurWBTMCP: Best wishes to the teache...</td>\n",
       "    </tr>\n",
       "  </tbody>\n",
       "</table>\n",
       "</div>"
      ],
      "text/plain": [
       "                author id                 created_at geo                   id  \\\n",
       "1332           2972137908  2022-01-29 20:10:31+00:00      1487518538826924044   \n",
       "1333           2469371420  2022-01-29 20:10:23+00:00      1487518506534985729   \n",
       "1334  1129033790616154114  2022-01-29 20:10:05+00:00      1487518432232882182   \n",
       "1335            240410888  2022-01-29 20:10:02+00:00      1487518417028587523   \n",
       "1336  1291042589269823488  2022-01-29 20:10:01+00:00      1487518414650281986   \n",
       "\n",
       "     lang  like_count  quote_count  reply_count  retweet_count  \\\n",
       "1332   en           2            0            0              0   \n",
       "1333   en           0            0            0            115   \n",
       "1334   en           0            0            0             76   \n",
       "1335   en           2            0            0              0   \n",
       "1336   en           0            0            0            218   \n",
       "\n",
       "                   source                                              tweet  \n",
       "1332   Twitter for iPhone  Thank you for being a part of Sharjah's story ...  \n",
       "1333  Twitter for Android  RT @RichkingSimz: Dear Zimbabweans and African...  \n",
       "1334  Twitter for Android  RT @Dr_Adeleke: 1. New Zealand Govtn scholarsh...  \n",
       "1335       Hootsuite Inc.  We are looking for multi-lingual tutors to (vi...  \n",
       "1336  Twitter for Android  RT @TrinankurWBTMCP: Best wishes to the teache...  "
      ]
     },
     "execution_count": 5,
     "metadata": {},
     "output_type": "execute_result"
    }
   ],
   "source": [
    "data.tail()"
   ]
  },
  {
   "cell_type": "code",
   "execution_count": 11,
   "metadata": {},
   "outputs": [],
   "source": [
    "def clean_tweet(tweet):\n",
    "  '''\n",
    "  Utility function to clean tweet text by removing links, special characters\n",
    "  using simple regex statements.\n",
    "  '''\n",
    "  return ' '.join(re.sub(\"(@[A-Za-z0-9]+)|([^0-9A-Za-z \\t])|(\\w+:\\/\\/\\S+)\", \" \", tweet).split())"
   ]
  },
  {
   "cell_type": "code",
   "execution_count": 32,
   "metadata": {},
   "outputs": [],
   "source": [
    "tweet_data = np.array(data.tweet)\n",
    "cleaned_tweet_data = []\n",
    "for tweet in tweet_data:\n",
    "  cleaned_tweet_data.append(clean_tweet(tweet))\n"
   ]
  },
  {
   "cell_type": "code",
   "execution_count": 33,
   "metadata": {},
   "outputs": [
    {
     "data": {
      "text/plain": [
       "'Canadian immigration minister talks backlogs international students and PGP in TV interview'"
      ]
     },
     "execution_count": 33,
     "metadata": {},
     "output_type": "execute_result"
    }
   ],
   "source": [
    "cleaned_tweet_data[101]"
   ]
  },
  {
   "cell_type": "code",
   "execution_count": 30,
   "metadata": {},
   "outputs": [],
   "source": [
    "def get_tweet_sentiment(tweet):\n",
    "  '''\n",
    "  Utility function to classify sentiment of passed tweet\n",
    "  using textblob's sentiment method\n",
    "  '''\n",
    "  # create TextBlob object of passed tweet text\n",
    "  analysis = TextBlob(clean_tweet(tweet))\n",
    "  # set sentiment\n",
    "  if analysis.sentiment.polarity > 0:\n",
    "    return 'positive'\n",
    "  elif analysis.sentiment.polarity == 0:\n",
    "    return 'neutral'\n",
    "  else:\n",
    "    return 'negative'"
   ]
  },
  {
   "cell_type": "code",
   "execution_count": 31,
   "metadata": {},
   "outputs": [],
   "source": [
    "def append_tweets_sentiments(tweet):\n",
    "   # empty list to store parsed tweets\n",
    "  tweets = []\n",
    "  # empty dictionary to store required params of a tweet\n",
    "  parsed_tweets = {}\n",
    "  # saving text of tweet\n",
    "  parsed_tweets['text'] = tweet\n",
    "  # saving sentiment of tweet\n",
    "  parsed_tweets['sentiment'] = get_tweet_sentiment(tweet)\n",
    "\n",
    "  # appending parsed tweet to tweets list\n",
    "  tweets.append(parsed_tweets)\n",
    "  return parsed_tweets\n",
    "  "
   ]
  },
  {
   "cell_type": "code",
   "execution_count": 34,
   "metadata": {},
   "outputs": [],
   "source": [
    "def sentiment_analysis():\n",
    "  tweets = []\n",
    "  # calling function to get tweets\n",
    "  for tweet in cleaned_tweet_data:\n",
    "    tweets.append(append_tweets_sentiments(tweet))\n",
    "  # print(tweets)\n",
    "  # picking positive tweets from tweets\n",
    "  ptweets = [tweet for tweet in tweets if tweet['sentiment'] == 'positive']\n",
    "  # percentage of positive tweets\n",
    "  print(\"Positive tweets percentage: {} %\".format(100*len(ptweets)/len(tweets)))\n",
    "  # picking negative tweets from tweets\n",
    "  ntweets = [tweet for tweet in tweets if tweet['sentiment'] == 'negative']\n",
    "  # percentage of negative tweets\n",
    "  print(\"Negative tweets percentage: {} %\".format(100*len(ntweets)/len(tweets)))\n",
    "  # percentage of neutral tweets\n",
    "  print(\"Neutral tweets percentage: {} % \\\n",
    "    \".format(100*(len(tweets) -(len( ntweets )+len( ptweets)))/len(tweets)))\n",
    "\n",
    "  # printing first 5 positive tweets\n",
    "  print(\"\\n\\nPositive tweets:\")\n",
    "  for tweet in ptweets[:10]:\n",
    "    print(tweet['text'])\n",
    "\n",
    "  # printing first 5 negative tweets\n",
    "  print(\"\\n\\nNegative tweets:\")\n",
    "  for tweet in ntweets[:10]:\n",
    "    print(tweet['text'])"
   ]
  },
  {
   "cell_type": "code",
   "execution_count": 35,
   "metadata": {},
   "outputs": [
    {
     "name": "stdout",
     "output_type": "stream",
     "text": [
      "Positive tweets percentage: 52.35602094240838 %\n",
      "Negative tweets percentage: 7.329842931937173 %\n",
      "Neutral tweets percentage: 40.31413612565445 %     \n",
      "\n",
      "\n",
      "Positive tweets:\n",
      "Female international students lack experience social networks and an awareness of the law When combined with their financial and emotional vulnerability they become prime targets for sex predators\n",
      "RT Most of the international students come from China amp India You want them to come study but not stay W\n",
      "International students cannot work more than 20 hours a week BUT predatory agents linked to Canadian colleges do everything possible to recruit students regardless of financial background Entire families bet on one student to move to Canada and send money home\n",
      "RT Postgraduate research scholarships for international students University of Sydney Scholarships are available for dom\n",
      "RT Dear Zimbabweans and Africans lets apply to these scholarship opportunities we are making available to you There is mor\n",
      "RT Four of our talented art students have have entered this year s United Learning International Art Competition Should\n",
      "Int students in community college was a rare phenomenon but in the 2010s they rapidly overtook those in university and are responsible for reviving many struggling colleges in rural areas The diplomas are of little use immigration is their main value\n",
      "RT Congratulations to Eastlake High School students Aakarsh Agrawal and Rushil Arun and Rishi Aniga of International Commu\n",
      "RT 1 Maus has played a vital role in educating about the Holocaust through sharing detailed and personal experiences of\n",
      "RT Four of our talented art students have have entered this year s United Learning International Art Competition Should\n",
      "\n",
      "\n",
      "Negative tweets:\n",
      "Really hope that they ll also change their approach on international students who want to enter Japan No clear roadmap and weird decisions causes a lot of stress and worries for international students workers family members waiting to enter\n",
      "I was sooooo weirded out when I was in columbus ohio for a few years because it s just straight up segregated mostly along black white lines but the only asians I really ran across were chinese international students who I have very little in common with esp experiencing race\n",
      "RT hindu Two years after thousands of Indian medical students saw their education in China abruptly put on hold amid the COVID 19 o\n",
      "Green Bay students talk with astronaut aboard the International Space Station\n",
      "International students in hardship due to coronavirus a looming humanitarian crisis advocates say ABC News\n",
      "RT Staff and students should form rank and file committees independent of the unions and link up with the international m\n",
      "RT Definitely worse and this is from someone whose husband is a truckie has worked through Covid My heart bl\n",
      "RT Staff and students should form rank and file committees independent of the unions and link up with the international m\n",
      "Staff and students should form rank and file committees independent of the unions and link up with the international movement that is emerging including strikes student walkouts and protests in France Greece Britain Canada and the United States\n",
      "RT Definitely worse and this is from someone whose husband is a truckie has worked through Covid My heart bl\n"
     ]
    }
   ],
   "source": [
    "sentiment_analysis()"
   ]
  },
  {
   "cell_type": "code",
   "execution_count": null,
   "metadata": {},
   "outputs": [],
   "source": []
  }
 ],
 "metadata": {
  "kernelspec": {
   "display_name": "Python 3.8.13 ('base')",
   "language": "python",
   "name": "python3"
  },
  "language_info": {
   "codemirror_mode": {
    "name": "ipython",
    "version": 3
   },
   "file_extension": ".py",
   "mimetype": "text/x-python",
   "name": "python",
   "nbconvert_exporter": "python",
   "pygments_lexer": "ipython3",
   "version": "3.8.13"
  },
  "orig_nbformat": 4,
  "vscode": {
   "interpreter": {
    "hash": "5d3878fddc9c46165445784a10b090b010bb1a0b9835785e50e8f56ead986c33"
   }
  }
 },
 "nbformat": 4,
 "nbformat_minor": 2
}
