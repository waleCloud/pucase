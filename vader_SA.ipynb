{
 "cells": [
  {
   "cell_type": "code",
   "execution_count": 214,
   "metadata": {},
   "outputs": [
    {
     "data": {
      "text/html": [
       "<div>\n",
       "<style scoped>\n",
       "    .dataframe tbody tr th:only-of-type {\n",
       "        vertical-align: middle;\n",
       "    }\n",
       "\n",
       "    .dataframe tbody tr th {\n",
       "        vertical-align: top;\n",
       "    }\n",
       "\n",
       "    .dataframe thead th {\n",
       "        text-align: right;\n",
       "    }\n",
       "</style>\n",
       "<table border=\"1\" class=\"dataframe\">\n",
       "  <thead>\n",
       "    <tr style=\"text-align: right;\">\n",
       "      <th></th>\n",
       "      <th>author id</th>\n",
       "      <th>created_at</th>\n",
       "      <th>geo</th>\n",
       "      <th>id</th>\n",
       "      <th>lang</th>\n",
       "      <th>like_count</th>\n",
       "      <th>quote_count</th>\n",
       "      <th>reply_count</th>\n",
       "      <th>retweet_count</th>\n",
       "      <th>source</th>\n",
       "      <th>tweet</th>\n",
       "    </tr>\n",
       "  </thead>\n",
       "  <tbody>\n",
       "    <tr>\n",
       "      <th>0</th>\n",
       "      <td>35293835</td>\n",
       "      <td>2022-07-29 22:45:25+00:00</td>\n",
       "      <td>1da00c8852cc9da2</td>\n",
       "      <td>1553149724965969921</td>\n",
       "      <td>en</td>\n",
       "      <td>0</td>\n",
       "      <td>0</td>\n",
       "      <td>0</td>\n",
       "      <td>0</td>\n",
       "      <td>Twitter Web App</td>\n",
       "      <td>OK never heard of this. cc @traddingtonbear \\n...</td>\n",
       "    </tr>\n",
       "    <tr>\n",
       "      <th>1</th>\n",
       "      <td>306923598</td>\n",
       "      <td>2022-07-29 21:34:24+00:00</td>\n",
       "      <td>47ff4825f135014a</td>\n",
       "      <td>1553131856287207424</td>\n",
       "      <td>en</td>\n",
       "      <td>0</td>\n",
       "      <td>0</td>\n",
       "      <td>0</td>\n",
       "      <td>0</td>\n",
       "      <td>Twitter for iPhone</td>\n",
       "      <td>@RussInCheshire Shit education system!</td>\n",
       "    </tr>\n",
       "    <tr>\n",
       "      <th>2</th>\n",
       "      <td>247699711</td>\n",
       "      <td>2022-07-29 20:25:05+00:00</td>\n",
       "      <td>3fc4ee9a5c7f6631</td>\n",
       "      <td>1553114410213941252</td>\n",
       "      <td>en</td>\n",
       "      <td>2</td>\n",
       "      <td>0</td>\n",
       "      <td>0</td>\n",
       "      <td>0</td>\n",
       "      <td>Twitter for iPhone</td>\n",
       "      <td>@bennewmark Sadly very true. We need a big sha...</td>\n",
       "    </tr>\n",
       "    <tr>\n",
       "      <th>3</th>\n",
       "      <td>1320306297384980481</td>\n",
       "      <td>2022-07-29 20:06:49+00:00</td>\n",
       "      <td>5376859fe6806d5b</td>\n",
       "      <td>1553109813202124800</td>\n",
       "      <td>en</td>\n",
       "      <td>10</td>\n",
       "      <td>0</td>\n",
       "      <td>0</td>\n",
       "      <td>0</td>\n",
       "      <td>Twitter for iPhone</td>\n",
       "      <td>@GoodwinMJ Thanks to institutional racism &amp;amp...</td>\n",
       "    </tr>\n",
       "    <tr>\n",
       "      <th>4</th>\n",
       "      <td>464232084</td>\n",
       "      <td>2022-07-29 17:22:27+00:00</td>\n",
       "      <td>32c74076799957c5</td>\n",
       "      <td>1553068448158187520</td>\n",
       "      <td>en</td>\n",
       "      <td>11</td>\n",
       "      <td>0</td>\n",
       "      <td>2</td>\n",
       "      <td>5</td>\n",
       "      <td>Twitter for Android</td>\n",
       "      <td>🚨Job opportunity @ParamedicsUK 🚨\\n\\nWe need a ...</td>\n",
       "    </tr>\n",
       "  </tbody>\n",
       "</table>\n",
       "</div>"
      ],
      "text/plain": [
       "             author id                 created_at               geo  \\\n",
       "0             35293835  2022-07-29 22:45:25+00:00  1da00c8852cc9da2   \n",
       "1            306923598  2022-07-29 21:34:24+00:00  47ff4825f135014a   \n",
       "2            247699711  2022-07-29 20:25:05+00:00  3fc4ee9a5c7f6631   \n",
       "3  1320306297384980481  2022-07-29 20:06:49+00:00  5376859fe6806d5b   \n",
       "4            464232084  2022-07-29 17:22:27+00:00  32c74076799957c5   \n",
       "\n",
       "                    id lang  like_count  quote_count  reply_count  \\\n",
       "0  1553149724965969921   en           0            0            0   \n",
       "1  1553131856287207424   en           0            0            0   \n",
       "2  1553114410213941252   en           2            0            0   \n",
       "3  1553109813202124800   en          10            0            0   \n",
       "4  1553068448158187520   en          11            0            2   \n",
       "\n",
       "   retweet_count               source  \\\n",
       "0              0      Twitter Web App   \n",
       "1              0   Twitter for iPhone   \n",
       "2              0   Twitter for iPhone   \n",
       "3              0   Twitter for iPhone   \n",
       "4              5  Twitter for Android   \n",
       "\n",
       "                                               tweet  \n",
       "0  OK never heard of this. cc @traddingtonbear \\n...  \n",
       "1             @RussInCheshire Shit education system!  \n",
       "2  @bennewmark Sadly very true. We need a big sha...  \n",
       "3  @GoodwinMJ Thanks to institutional racism &amp...  \n",
       "4  🚨Job opportunity @ParamedicsUK 🚨\\n\\nWe need a ...  "
      ]
     },
     "execution_count": 214,
     "metadata": {},
     "output_type": "execute_result"
    }
   ],
   "source": [
    "import pandas as pd\n",
    "data = pd.read_csv('./data.csv')\n",
    "\n",
    "data.head()"
   ]
  },
  {
   "cell_type": "code",
   "execution_count": 215,
   "metadata": {},
   "outputs": [
    {
     "name": "stdout",
     "output_type": "stream",
     "text": [
      "<class 'pandas.core.frame.DataFrame'>\n",
      "RangeIndex: 27634 entries, 0 to 27633\n",
      "Data columns (total 11 columns):\n",
      " #   Column         Non-Null Count  Dtype \n",
      "---  ------         --------------  ----- \n",
      " 0   author id      27634 non-null  int64 \n",
      " 1   created_at     27634 non-null  object\n",
      " 2   geo            27634 non-null  object\n",
      " 3   id             27634 non-null  int64 \n",
      " 4   lang           27634 non-null  object\n",
      " 5   like_count     27634 non-null  int64 \n",
      " 6   quote_count    27634 non-null  int64 \n",
      " 7   reply_count    27634 non-null  int64 \n",
      " 8   retweet_count  27634 non-null  int64 \n",
      " 9   source         27634 non-null  object\n",
      " 10  tweet          27634 non-null  object\n",
      "dtypes: int64(6), object(5)\n",
      "memory usage: 2.3+ MB\n"
     ]
    }
   ],
   "source": [
    "data.info()"
   ]
  },
  {
   "cell_type": "markdown",
   "metadata": {},
   "source": [
    "# Data transformation\n",
    "\n",
    "changing the tweets text to all lower case letters."
   ]
  },
  {
   "cell_type": "code",
   "execution_count": 216,
   "metadata": {},
   "outputs": [
    {
     "data": {
      "text/html": [
       "<div>\n",
       "<style scoped>\n",
       "    .dataframe tbody tr th:only-of-type {\n",
       "        vertical-align: middle;\n",
       "    }\n",
       "\n",
       "    .dataframe tbody tr th {\n",
       "        vertical-align: top;\n",
       "    }\n",
       "\n",
       "    .dataframe thead th {\n",
       "        text-align: right;\n",
       "    }\n",
       "</style>\n",
       "<table border=\"1\" class=\"dataframe\">\n",
       "  <thead>\n",
       "    <tr style=\"text-align: right;\">\n",
       "      <th></th>\n",
       "      <th>author id</th>\n",
       "      <th>created_at</th>\n",
       "      <th>geo</th>\n",
       "      <th>id</th>\n",
       "      <th>lang</th>\n",
       "      <th>like_count</th>\n",
       "      <th>quote_count</th>\n",
       "      <th>reply_count</th>\n",
       "      <th>retweet_count</th>\n",
       "      <th>source</th>\n",
       "      <th>tweet</th>\n",
       "    </tr>\n",
       "  </thead>\n",
       "  <tbody>\n",
       "    <tr>\n",
       "      <th>0</th>\n",
       "      <td>35293835</td>\n",
       "      <td>2022-07-29 22:45:25+00:00</td>\n",
       "      <td>1da00c8852cc9da2</td>\n",
       "      <td>1553149724965969921</td>\n",
       "      <td>en</td>\n",
       "      <td>0</td>\n",
       "      <td>0</td>\n",
       "      <td>0</td>\n",
       "      <td>0</td>\n",
       "      <td>Twitter Web App</td>\n",
       "      <td>ok never heard of this. cc @traddingtonbear \\n...</td>\n",
       "    </tr>\n",
       "    <tr>\n",
       "      <th>1</th>\n",
       "      <td>306923598</td>\n",
       "      <td>2022-07-29 21:34:24+00:00</td>\n",
       "      <td>47ff4825f135014a</td>\n",
       "      <td>1553131856287207424</td>\n",
       "      <td>en</td>\n",
       "      <td>0</td>\n",
       "      <td>0</td>\n",
       "      <td>0</td>\n",
       "      <td>0</td>\n",
       "      <td>Twitter for iPhone</td>\n",
       "      <td>@russincheshire shit education system!</td>\n",
       "    </tr>\n",
       "    <tr>\n",
       "      <th>2</th>\n",
       "      <td>247699711</td>\n",
       "      <td>2022-07-29 20:25:05+00:00</td>\n",
       "      <td>3fc4ee9a5c7f6631</td>\n",
       "      <td>1553114410213941252</td>\n",
       "      <td>en</td>\n",
       "      <td>2</td>\n",
       "      <td>0</td>\n",
       "      <td>0</td>\n",
       "      <td>0</td>\n",
       "      <td>Twitter for iPhone</td>\n",
       "      <td>@bennewmark sadly very true. we need a big sha...</td>\n",
       "    </tr>\n",
       "    <tr>\n",
       "      <th>3</th>\n",
       "      <td>1320306297384980481</td>\n",
       "      <td>2022-07-29 20:06:49+00:00</td>\n",
       "      <td>5376859fe6806d5b</td>\n",
       "      <td>1553109813202124800</td>\n",
       "      <td>en</td>\n",
       "      <td>10</td>\n",
       "      <td>0</td>\n",
       "      <td>0</td>\n",
       "      <td>0</td>\n",
       "      <td>Twitter for iPhone</td>\n",
       "      <td>@goodwinmj thanks to institutional racism &amp;amp...</td>\n",
       "    </tr>\n",
       "    <tr>\n",
       "      <th>4</th>\n",
       "      <td>464232084</td>\n",
       "      <td>2022-07-29 17:22:27+00:00</td>\n",
       "      <td>32c74076799957c5</td>\n",
       "      <td>1553068448158187520</td>\n",
       "      <td>en</td>\n",
       "      <td>11</td>\n",
       "      <td>0</td>\n",
       "      <td>2</td>\n",
       "      <td>5</td>\n",
       "      <td>Twitter for Android</td>\n",
       "      <td>🚨job opportunity @paramedicsuk 🚨\\n\\nwe need a ...</td>\n",
       "    </tr>\n",
       "  </tbody>\n",
       "</table>\n",
       "</div>"
      ],
      "text/plain": [
       "             author id                 created_at               geo  \\\n",
       "0             35293835  2022-07-29 22:45:25+00:00  1da00c8852cc9da2   \n",
       "1            306923598  2022-07-29 21:34:24+00:00  47ff4825f135014a   \n",
       "2            247699711  2022-07-29 20:25:05+00:00  3fc4ee9a5c7f6631   \n",
       "3  1320306297384980481  2022-07-29 20:06:49+00:00  5376859fe6806d5b   \n",
       "4            464232084  2022-07-29 17:22:27+00:00  32c74076799957c5   \n",
       "\n",
       "                    id lang  like_count  quote_count  reply_count  \\\n",
       "0  1553149724965969921   en           0            0            0   \n",
       "1  1553131856287207424   en           0            0            0   \n",
       "2  1553114410213941252   en           2            0            0   \n",
       "3  1553109813202124800   en          10            0            0   \n",
       "4  1553068448158187520   en          11            0            2   \n",
       "\n",
       "   retweet_count               source  \\\n",
       "0              0      Twitter Web App   \n",
       "1              0   Twitter for iPhone   \n",
       "2              0   Twitter for iPhone   \n",
       "3              0   Twitter for iPhone   \n",
       "4              5  Twitter for Android   \n",
       "\n",
       "                                               tweet  \n",
       "0  ok never heard of this. cc @traddingtonbear \\n...  \n",
       "1             @russincheshire shit education system!  \n",
       "2  @bennewmark sadly very true. we need a big sha...  \n",
       "3  @goodwinmj thanks to institutional racism &amp...  \n",
       "4  🚨job opportunity @paramedicsuk 🚨\\n\\nwe need a ...  "
      ]
     },
     "execution_count": 216,
     "metadata": {},
     "output_type": "execute_result"
    }
   ],
   "source": [
    "data['tweet'] = data['tweet'].astype(str).str.lower()\n",
    "data.head()"
   ]
  },
  {
   "cell_type": "markdown",
   "metadata": {},
   "source": [
    "## Tokenization\n",
    "\n",
    "Break up the tweets into tokens. Tokens in this context are words, characters, or subwords.\n",
    "\n",
    "We will use NLTK’s RegexpTokenizer to perform tokenization in combination with regular expressions."
   ]
  },
  {
   "cell_type": "code",
   "execution_count": 217,
   "metadata": {},
   "outputs": [
    {
     "data": {
      "text/html": [
       "<div>\n",
       "<style scoped>\n",
       "    .dataframe tbody tr th:only-of-type {\n",
       "        vertical-align: middle;\n",
       "    }\n",
       "\n",
       "    .dataframe tbody tr th {\n",
       "        vertical-align: top;\n",
       "    }\n",
       "\n",
       "    .dataframe thead th {\n",
       "        text-align: right;\n",
       "    }\n",
       "</style>\n",
       "<table border=\"1\" class=\"dataframe\">\n",
       "  <thead>\n",
       "    <tr style=\"text-align: right;\">\n",
       "      <th></th>\n",
       "      <th>author id</th>\n",
       "      <th>created_at</th>\n",
       "      <th>geo</th>\n",
       "      <th>id</th>\n",
       "      <th>lang</th>\n",
       "      <th>like_count</th>\n",
       "      <th>quote_count</th>\n",
       "      <th>reply_count</th>\n",
       "      <th>retweet_count</th>\n",
       "      <th>source</th>\n",
       "      <th>tweet</th>\n",
       "      <th>text_token</th>\n",
       "    </tr>\n",
       "  </thead>\n",
       "  <tbody>\n",
       "    <tr>\n",
       "      <th>0</th>\n",
       "      <td>35293835</td>\n",
       "      <td>2022-07-29 22:45:25+00:00</td>\n",
       "      <td>1da00c8852cc9da2</td>\n",
       "      <td>1553149724965969921</td>\n",
       "      <td>en</td>\n",
       "      <td>0</td>\n",
       "      <td>0</td>\n",
       "      <td>0</td>\n",
       "      <td>0</td>\n",
       "      <td>Twitter Web App</td>\n",
       "      <td>ok never heard of this. cc @traddingtonbear \\n...</td>\n",
       "      <td>[ok, never, heard, of, this, cc, traddingtonbe...</td>\n",
       "    </tr>\n",
       "    <tr>\n",
       "      <th>1</th>\n",
       "      <td>306923598</td>\n",
       "      <td>2022-07-29 21:34:24+00:00</td>\n",
       "      <td>47ff4825f135014a</td>\n",
       "      <td>1553131856287207424</td>\n",
       "      <td>en</td>\n",
       "      <td>0</td>\n",
       "      <td>0</td>\n",
       "      <td>0</td>\n",
       "      <td>0</td>\n",
       "      <td>Twitter for iPhone</td>\n",
       "      <td>@russincheshire shit education system!</td>\n",
       "      <td>[russincheshire, shit, education, system]</td>\n",
       "    </tr>\n",
       "    <tr>\n",
       "      <th>2</th>\n",
       "      <td>247699711</td>\n",
       "      <td>2022-07-29 20:25:05+00:00</td>\n",
       "      <td>3fc4ee9a5c7f6631</td>\n",
       "      <td>1553114410213941252</td>\n",
       "      <td>en</td>\n",
       "      <td>2</td>\n",
       "      <td>0</td>\n",
       "      <td>0</td>\n",
       "      <td>0</td>\n",
       "      <td>Twitter for iPhone</td>\n",
       "      <td>@bennewmark sadly very true. we need a big sha...</td>\n",
       "      <td>[bennewmark, sadly, very, true, we, need, a, b...</td>\n",
       "    </tr>\n",
       "  </tbody>\n",
       "</table>\n",
       "</div>"
      ],
      "text/plain": [
       "   author id                 created_at               geo  \\\n",
       "0   35293835  2022-07-29 22:45:25+00:00  1da00c8852cc9da2   \n",
       "1  306923598  2022-07-29 21:34:24+00:00  47ff4825f135014a   \n",
       "2  247699711  2022-07-29 20:25:05+00:00  3fc4ee9a5c7f6631   \n",
       "\n",
       "                    id lang  like_count  quote_count  reply_count  \\\n",
       "0  1553149724965969921   en           0            0            0   \n",
       "1  1553131856287207424   en           0            0            0   \n",
       "2  1553114410213941252   en           2            0            0   \n",
       "\n",
       "   retweet_count              source  \\\n",
       "0              0     Twitter Web App   \n",
       "1              0  Twitter for iPhone   \n",
       "2              0  Twitter for iPhone   \n",
       "\n",
       "                                               tweet  \\\n",
       "0  ok never heard of this. cc @traddingtonbear \\n...   \n",
       "1             @russincheshire shit education system!   \n",
       "2  @bennewmark sadly very true. we need a big sha...   \n",
       "\n",
       "                                          text_token  \n",
       "0  [ok, never, heard, of, this, cc, traddingtonbe...  \n",
       "1          [russincheshire, shit, education, system]  \n",
       "2  [bennewmark, sadly, very, true, we, need, a, b...  "
      ]
     },
     "execution_count": 217,
     "metadata": {},
     "output_type": "execute_result"
    }
   ],
   "source": [
    "from nltk.tokenize import RegexpTokenizer\n",
    "\n",
    "regexp = RegexpTokenizer('\\w+')\n",
    "\n",
    "data['text_token']= data['tweet'].apply(regexp.tokenize)\n",
    "data.head(3)"
   ]
  },
  {
   "cell_type": "markdown",
   "metadata": {},
   "source": [
    "## Stopwords\n",
    "Stop words are words in a stop list which are dropped before analysing natural language data since they don’t contain valuable information (like “will”, “and”, “or”, “has”, …)."
   ]
  },
  {
   "cell_type": "code",
   "execution_count": 218,
   "metadata": {},
   "outputs": [
    {
     "name": "stderr",
     "output_type": "stream",
     "text": [
      "[nltk_data] Downloading package stopwords to\n",
      "[nltk_data]     /Users/waleacloud/nltk_data...\n",
      "[nltk_data]   Package stopwords is already up-to-date!\n"
     ]
    },
    {
     "data": {
      "text/plain": [
       "True"
      ]
     },
     "execution_count": 218,
     "metadata": {},
     "output_type": "execute_result"
    }
   ],
   "source": [
    "import nltk\n",
    "\n",
    "nltk.download('stopwords')"
   ]
  },
  {
   "cell_type": "code",
   "execution_count": 219,
   "metadata": {},
   "outputs": [
    {
     "data": {
      "text/html": [
       "<div>\n",
       "<style scoped>\n",
       "    .dataframe tbody tr th:only-of-type {\n",
       "        vertical-align: middle;\n",
       "    }\n",
       "\n",
       "    .dataframe tbody tr th {\n",
       "        vertical-align: top;\n",
       "    }\n",
       "\n",
       "    .dataframe thead th {\n",
       "        text-align: right;\n",
       "    }\n",
       "</style>\n",
       "<table border=\"1\" class=\"dataframe\">\n",
       "  <thead>\n",
       "    <tr style=\"text-align: right;\">\n",
       "      <th></th>\n",
       "      <th>author id</th>\n",
       "      <th>created_at</th>\n",
       "      <th>geo</th>\n",
       "      <th>id</th>\n",
       "      <th>lang</th>\n",
       "      <th>like_count</th>\n",
       "      <th>quote_count</th>\n",
       "      <th>reply_count</th>\n",
       "      <th>retweet_count</th>\n",
       "      <th>source</th>\n",
       "      <th>tweet</th>\n",
       "      <th>text_token</th>\n",
       "    </tr>\n",
       "  </thead>\n",
       "  <tbody>\n",
       "    <tr>\n",
       "      <th>0</th>\n",
       "      <td>35293835</td>\n",
       "      <td>2022-07-29 22:45:25+00:00</td>\n",
       "      <td>1da00c8852cc9da2</td>\n",
       "      <td>1553149724965969921</td>\n",
       "      <td>en</td>\n",
       "      <td>0</td>\n",
       "      <td>0</td>\n",
       "      <td>0</td>\n",
       "      <td>0</td>\n",
       "      <td>Twitter Web App</td>\n",
       "      <td>ok never heard of this. cc @traddingtonbear \\n...</td>\n",
       "      <td>[ok, never, heard, cc, traddingtonbear, co, uu...</td>\n",
       "    </tr>\n",
       "    <tr>\n",
       "      <th>1</th>\n",
       "      <td>306923598</td>\n",
       "      <td>2022-07-29 21:34:24+00:00</td>\n",
       "      <td>47ff4825f135014a</td>\n",
       "      <td>1553131856287207424</td>\n",
       "      <td>en</td>\n",
       "      <td>0</td>\n",
       "      <td>0</td>\n",
       "      <td>0</td>\n",
       "      <td>0</td>\n",
       "      <td>Twitter for iPhone</td>\n",
       "      <td>@russincheshire shit education system!</td>\n",
       "      <td>[russincheshire, shit, education, system]</td>\n",
       "    </tr>\n",
       "    <tr>\n",
       "      <th>2</th>\n",
       "      <td>247699711</td>\n",
       "      <td>2022-07-29 20:25:05+00:00</td>\n",
       "      <td>3fc4ee9a5c7f6631</td>\n",
       "      <td>1553114410213941252</td>\n",
       "      <td>en</td>\n",
       "      <td>2</td>\n",
       "      <td>0</td>\n",
       "      <td>0</td>\n",
       "      <td>0</td>\n",
       "      <td>Twitter for iPhone</td>\n",
       "      <td>@bennewmark sadly very true. we need a big sha...</td>\n",
       "      <td>[bennewmark, sadly, true, need, big, shake, sy...</td>\n",
       "    </tr>\n",
       "  </tbody>\n",
       "</table>\n",
       "</div>"
      ],
      "text/plain": [
       "   author id                 created_at               geo  \\\n",
       "0   35293835  2022-07-29 22:45:25+00:00  1da00c8852cc9da2   \n",
       "1  306923598  2022-07-29 21:34:24+00:00  47ff4825f135014a   \n",
       "2  247699711  2022-07-29 20:25:05+00:00  3fc4ee9a5c7f6631   \n",
       "\n",
       "                    id lang  like_count  quote_count  reply_count  \\\n",
       "0  1553149724965969921   en           0            0            0   \n",
       "1  1553131856287207424   en           0            0            0   \n",
       "2  1553114410213941252   en           2            0            0   \n",
       "\n",
       "   retweet_count              source  \\\n",
       "0              0     Twitter Web App   \n",
       "1              0  Twitter for iPhone   \n",
       "2              0  Twitter for iPhone   \n",
       "\n",
       "                                               tweet  \\\n",
       "0  ok never heard of this. cc @traddingtonbear \\n...   \n",
       "1             @russincheshire shit education system!   \n",
       "2  @bennewmark sadly very true. we need a big sha...   \n",
       "\n",
       "                                          text_token  \n",
       "0  [ok, never, heard, cc, traddingtonbear, co, uu...  \n",
       "1          [russincheshire, shit, education, system]  \n",
       "2  [bennewmark, sadly, true, need, big, shake, sy...  "
      ]
     },
     "execution_count": 219,
     "metadata": {},
     "output_type": "execute_result"
    }
   ],
   "source": [
    "from nltk.corpus import stopwords\n",
    "\n",
    "# Make a list of english stopwords\n",
    "stopwords = nltk.corpus.stopwords.words(\"english\")\n",
    "\n",
    "# Extend the list with our own custom stopwords\n",
    "my_stopwords = ['https', 'http', 'url', 'amp', '&amp']\n",
    "stopwords.extend(my_stopwords)\n",
    "\n",
    "# Remove stopwords\n",
    "data['text_token'] = data['text_token'].apply(lambda x: [item for item in x if item not in stopwords])\n",
    "data.head(3)"
   ]
  },
  {
   "cell_type": "markdown",
   "metadata": {},
   "source": [
    "## Remove infrequent words\n",
    "We first change the format of text_token to strings and keep only words which are longer than 2 letters\n"
   ]
  },
  {
   "cell_type": "code",
   "execution_count": 220,
   "metadata": {},
   "outputs": [],
   "source": [
    "data['text_string'] = data['text_token'].apply(lambda x: ' '.join([item for item in x if len(item)>2]))\n",
    "\n",
    "data[['tweet', 'text_token', 'text_string']].head()\n",
    "\n",
    "# Create a list of all words\n",
    "all_words = ' '.join([word for word in data['text_string']])"
   ]
  },
  {
   "cell_type": "code",
   "execution_count": 221,
   "metadata": {},
   "outputs": [
    {
     "data": {
      "text/plain": [
       "FreqDist({'education': 18834, 'system': 7427, 'students': 5086, 'school': 2895, 'schools': 2368, 'people': 2366, 'children': 2025, 'one': 1435, 'news': 1427, 'get': 1426, ...})"
      ]
     },
     "execution_count": 221,
     "metadata": {},
     "output_type": "execute_result"
    }
   ],
   "source": [
    "# Tokenize all_words\n",
    "tokenized_words = nltk.tokenize.word_tokenize(all_words)\n",
    "\n",
    "# Create a frequency distribution which records the number of times each word has occurred:\n",
    "from nltk.probability import FreqDist\n",
    "\n",
    "fdist = FreqDist(tokenized_words)\n",
    "fdist"
   ]
  },
  {
   "cell_type": "markdown",
   "metadata": {},
   "source": [
    "Now we can use our fdist dictionary to drop words which occur less than a certain amount of times (usually we use a value of 3 or 4).\n",
    "Since our dataset is really small, we filter out few words and set the value to greater or equal to 2."
   ]
  },
  {
   "cell_type": "code",
   "execution_count": 222,
   "metadata": {},
   "outputs": [
    {
     "data": {
      "text/html": [
       "<div>\n",
       "<style scoped>\n",
       "    .dataframe tbody tr th:only-of-type {\n",
       "        vertical-align: middle;\n",
       "    }\n",
       "\n",
       "    .dataframe tbody tr th {\n",
       "        vertical-align: top;\n",
       "    }\n",
       "\n",
       "    .dataframe thead th {\n",
       "        text-align: right;\n",
       "    }\n",
       "</style>\n",
       "<table border=\"1\" class=\"dataframe\">\n",
       "  <thead>\n",
       "    <tr style=\"text-align: right;\">\n",
       "      <th></th>\n",
       "      <th>tweet</th>\n",
       "      <th>text_token</th>\n",
       "      <th>text_string</th>\n",
       "      <th>text_string_fdist</th>\n",
       "    </tr>\n",
       "  </thead>\n",
       "  <tbody>\n",
       "    <tr>\n",
       "      <th>0</th>\n",
       "      <td>ok never heard of this. cc @traddingtonbear \\n...</td>\n",
       "      <td>[ok, never, heard, cc, traddingtonbear, co, uu...</td>\n",
       "      <td>never heard traddingtonbear uut3hoabdx heard i...</td>\n",
       "      <td>never heard traddingtonbear uut3hoabdx heard i...</td>\n",
       "    </tr>\n",
       "    <tr>\n",
       "      <th>1</th>\n",
       "      <td>@russincheshire shit education system!</td>\n",
       "      <td>[russincheshire, shit, education, system]</td>\n",
       "      <td>russincheshire shit education system</td>\n",
       "      <td>russincheshire shit education system</td>\n",
       "    </tr>\n",
       "    <tr>\n",
       "      <th>2</th>\n",
       "      <td>@bennewmark sadly very true. we need a big sha...</td>\n",
       "      <td>[bennewmark, sadly, true, need, big, shake, sy...</td>\n",
       "      <td>bennewmark sadly true need big shake system st...</td>\n",
       "      <td>bennewmark sadly true need big shake system st...</td>\n",
       "    </tr>\n",
       "    <tr>\n",
       "      <th>3</th>\n",
       "      <td>@goodwinmj thanks to institutional racism &amp;amp...</td>\n",
       "      <td>[goodwinmj, thanks, institutional, racism, dis...</td>\n",
       "      <td>goodwinmj thanks institutional racism discrimi...</td>\n",
       "      <td>goodwinmj thanks institutional racism discrimi...</td>\n",
       "    </tr>\n",
       "    <tr>\n",
       "      <th>4</th>\n",
       "      <td>🚨job opportunity @paramedicsuk 🚨\\n\\nwe need a ...</td>\n",
       "      <td>[job, opportunity, paramedicsuk, need, new, he...</td>\n",
       "      <td>job opportunity paramedicsuk need new head edu...</td>\n",
       "      <td>job opportunity paramedicsuk need new head edu...</td>\n",
       "    </tr>\n",
       "  </tbody>\n",
       "</table>\n",
       "</div>"
      ],
      "text/plain": [
       "                                               tweet  \\\n",
       "0  ok never heard of this. cc @traddingtonbear \\n...   \n",
       "1             @russincheshire shit education system!   \n",
       "2  @bennewmark sadly very true. we need a big sha...   \n",
       "3  @goodwinmj thanks to institutional racism &amp...   \n",
       "4  🚨job opportunity @paramedicsuk 🚨\\n\\nwe need a ...   \n",
       "\n",
       "                                          text_token  \\\n",
       "0  [ok, never, heard, cc, traddingtonbear, co, uu...   \n",
       "1          [russincheshire, shit, education, system]   \n",
       "2  [bennewmark, sadly, true, need, big, shake, sy...   \n",
       "3  [goodwinmj, thanks, institutional, racism, dis...   \n",
       "4  [job, opportunity, paramedicsuk, need, new, he...   \n",
       "\n",
       "                                         text_string  \\\n",
       "0  never heard traddingtonbear uut3hoabdx heard i...   \n",
       "1               russincheshire shit education system   \n",
       "2  bennewmark sadly true need big shake system st...   \n",
       "3  goodwinmj thanks institutional racism discrimi...   \n",
       "4  job opportunity paramedicsuk need new head edu...   \n",
       "\n",
       "                                   text_string_fdist  \n",
       "0  never heard traddingtonbear uut3hoabdx heard i...  \n",
       "1               russincheshire shit education system  \n",
       "2  bennewmark sadly true need big shake system st...  \n",
       "3  goodwinmj thanks institutional racism discrimi...  \n",
       "4  job opportunity paramedicsuk need new head edu...  "
      ]
     },
     "execution_count": 222,
     "metadata": {},
     "output_type": "execute_result"
    }
   ],
   "source": [
    "data['text_string_fdist'] = data['text_token'].apply(lambda x: ' '.join([item for item in x if fdist[item] >= 1 ]))\n",
    "data[['tweet', 'text_token', 'text_string', 'text_string_fdist']].head()\n"
   ]
  },
  {
   "cell_type": "markdown",
   "metadata": {},
   "source": [
    "## Lemmatization\n",
    "Next, we perfom lemmatization.\n",
    "lemmatisation is the algorithmic process of determining the dictionary form of a word based on its intended meaning. "
   ]
  },
  {
   "cell_type": "code",
   "execution_count": 223,
   "metadata": {},
   "outputs": [
    {
     "name": "stderr",
     "output_type": "stream",
     "text": [
      "[nltk_data] Downloading package wordnet to\n",
      "[nltk_data]     /Users/waleacloud/nltk_data...\n",
      "[nltk_data]   Package wordnet is already up-to-date!\n",
      "[nltk_data] Downloading package wordnet_ic to\n",
      "[nltk_data]     /Users/waleacloud/nltk_data...\n",
      "[nltk_data]   Package wordnet_ic is already up-to-date!\n",
      "[nltk_data] Downloading package omw-1.4 to\n",
      "[nltk_data]     /Users/waleacloud/nltk_data...\n",
      "[nltk_data]   Package omw-1.4 is already up-to-date!\n"
     ]
    },
    {
     "data": {
      "text/plain": [
       "True"
      ]
     },
     "execution_count": 223,
     "metadata": {},
     "output_type": "execute_result"
    }
   ],
   "source": [
    "nltk.download('wordnet')\n",
    "nltk.download('wordnet_ic')\n",
    "nltk.download('omw-1.4')"
   ]
  },
  {
   "cell_type": "code",
   "execution_count": 224,
   "metadata": {},
   "outputs": [
    {
     "data": {
      "text/plain": [
       "True    27634\n",
       "Name: is_equal, dtype: int64"
      ]
     },
     "execution_count": 224,
     "metadata": {},
     "output_type": "execute_result"
    }
   ],
   "source": [
    "from nltk.stem import WordNetLemmatizer\n",
    "\n",
    "wordnet_lem = WordNetLemmatizer()\n",
    "data['text_string_lem'] = data['text_string_fdist'].apply(wordnet_lem.lemmatize)\n",
    "\n",
    "# Note that in some datasets, there are no words to lemmatize. We can check this as follows:\n",
    "# check if the columns are equal\n",
    "data['is_equal']= (data['text_string_fdist'] == data['text_string_lem'])\n",
    "\n",
    "# show level count\n",
    "data.is_equal.value_counts()"
   ]
  },
  {
   "cell_type": "code",
   "execution_count": 225,
   "metadata": {},
   "outputs": [
    {
     "data": {
      "text/html": [
       "<div>\n",
       "<style scoped>\n",
       "    .dataframe tbody tr th:only-of-type {\n",
       "        vertical-align: middle;\n",
       "    }\n",
       "\n",
       "    .dataframe tbody tr th {\n",
       "        vertical-align: top;\n",
       "    }\n",
       "\n",
       "    .dataframe thead th {\n",
       "        text-align: right;\n",
       "    }\n",
       "</style>\n",
       "<table border=\"1\" class=\"dataframe\">\n",
       "  <thead>\n",
       "    <tr style=\"text-align: right;\">\n",
       "      <th></th>\n",
       "      <th>author id</th>\n",
       "      <th>created_at</th>\n",
       "      <th>geo</th>\n",
       "      <th>id</th>\n",
       "      <th>lang</th>\n",
       "      <th>like_count</th>\n",
       "      <th>quote_count</th>\n",
       "      <th>reply_count</th>\n",
       "      <th>retweet_count</th>\n",
       "      <th>source</th>\n",
       "      <th>tweet</th>\n",
       "      <th>text_token</th>\n",
       "      <th>text_string</th>\n",
       "      <th>text_string_fdist</th>\n",
       "      <th>text_string_lem</th>\n",
       "      <th>is_equal</th>\n",
       "    </tr>\n",
       "  </thead>\n",
       "  <tbody>\n",
       "    <tr>\n",
       "      <th>0</th>\n",
       "      <td>35293835</td>\n",
       "      <td>2022-07-29 22:45:25+00:00</td>\n",
       "      <td>1da00c8852cc9da2</td>\n",
       "      <td>1553149724965969921</td>\n",
       "      <td>en</td>\n",
       "      <td>0</td>\n",
       "      <td>0</td>\n",
       "      <td>0</td>\n",
       "      <td>0</td>\n",
       "      <td>Twitter Web App</td>\n",
       "      <td>ok never heard of this. cc @traddingtonbear \\n...</td>\n",
       "      <td>[ok, never, heard, cc, traddingtonbear, co, uu...</td>\n",
       "      <td>never heard traddingtonbear uut3hoabdx heard i...</td>\n",
       "      <td>never heard traddingtonbear uut3hoabdx heard i...</td>\n",
       "      <td>never heard traddingtonbear uut3hoabdx heard i...</td>\n",
       "      <td>True</td>\n",
       "    </tr>\n",
       "    <tr>\n",
       "      <th>1</th>\n",
       "      <td>306923598</td>\n",
       "      <td>2022-07-29 21:34:24+00:00</td>\n",
       "      <td>47ff4825f135014a</td>\n",
       "      <td>1553131856287207424</td>\n",
       "      <td>en</td>\n",
       "      <td>0</td>\n",
       "      <td>0</td>\n",
       "      <td>0</td>\n",
       "      <td>0</td>\n",
       "      <td>Twitter for iPhone</td>\n",
       "      <td>@russincheshire shit education system!</td>\n",
       "      <td>[russincheshire, shit, education, system]</td>\n",
       "      <td>russincheshire shit education system</td>\n",
       "      <td>russincheshire shit education system</td>\n",
       "      <td>russincheshire shit education system</td>\n",
       "      <td>True</td>\n",
       "    </tr>\n",
       "    <tr>\n",
       "      <th>2</th>\n",
       "      <td>247699711</td>\n",
       "      <td>2022-07-29 20:25:05+00:00</td>\n",
       "      <td>3fc4ee9a5c7f6631</td>\n",
       "      <td>1553114410213941252</td>\n",
       "      <td>en</td>\n",
       "      <td>2</td>\n",
       "      <td>0</td>\n",
       "      <td>0</td>\n",
       "      <td>0</td>\n",
       "      <td>Twitter for iPhone</td>\n",
       "      <td>@bennewmark sadly very true. we need a big sha...</td>\n",
       "      <td>[bennewmark, sadly, true, need, big, shake, sy...</td>\n",
       "      <td>bennewmark sadly true need big shake system st...</td>\n",
       "      <td>bennewmark sadly true need big shake system st...</td>\n",
       "      <td>bennewmark sadly true need big shake system st...</td>\n",
       "      <td>True</td>\n",
       "    </tr>\n",
       "    <tr>\n",
       "      <th>3</th>\n",
       "      <td>1320306297384980481</td>\n",
       "      <td>2022-07-29 20:06:49+00:00</td>\n",
       "      <td>5376859fe6806d5b</td>\n",
       "      <td>1553109813202124800</td>\n",
       "      <td>en</td>\n",
       "      <td>10</td>\n",
       "      <td>0</td>\n",
       "      <td>0</td>\n",
       "      <td>0</td>\n",
       "      <td>Twitter for iPhone</td>\n",
       "      <td>@goodwinmj thanks to institutional racism &amp;amp...</td>\n",
       "      <td>[goodwinmj, thanks, institutional, racism, dis...</td>\n",
       "      <td>goodwinmj thanks institutional racism discrimi...</td>\n",
       "      <td>goodwinmj thanks institutional racism discrimi...</td>\n",
       "      <td>goodwinmj thanks institutional racism discrimi...</td>\n",
       "      <td>True</td>\n",
       "    </tr>\n",
       "    <tr>\n",
       "      <th>4</th>\n",
       "      <td>464232084</td>\n",
       "      <td>2022-07-29 17:22:27+00:00</td>\n",
       "      <td>32c74076799957c5</td>\n",
       "      <td>1553068448158187520</td>\n",
       "      <td>en</td>\n",
       "      <td>11</td>\n",
       "      <td>0</td>\n",
       "      <td>2</td>\n",
       "      <td>5</td>\n",
       "      <td>Twitter for Android</td>\n",
       "      <td>🚨job opportunity @paramedicsuk 🚨\\n\\nwe need a ...</td>\n",
       "      <td>[job, opportunity, paramedicsuk, need, new, he...</td>\n",
       "      <td>job opportunity paramedicsuk need new head edu...</td>\n",
       "      <td>job opportunity paramedicsuk need new head edu...</td>\n",
       "      <td>job opportunity paramedicsuk need new head edu...</td>\n",
       "      <td>True</td>\n",
       "    </tr>\n",
       "    <tr>\n",
       "      <th>...</th>\n",
       "      <td>...</td>\n",
       "      <td>...</td>\n",
       "      <td>...</td>\n",
       "      <td>...</td>\n",
       "      <td>...</td>\n",
       "      <td>...</td>\n",
       "      <td>...</td>\n",
       "      <td>...</td>\n",
       "      <td>...</td>\n",
       "      <td>...</td>\n",
       "      <td>...</td>\n",
       "      <td>...</td>\n",
       "      <td>...</td>\n",
       "      <td>...</td>\n",
       "      <td>...</td>\n",
       "      <td>...</td>\n",
       "    </tr>\n",
       "    <tr>\n",
       "      <th>27629</th>\n",
       "      <td>96099375</td>\n",
       "      <td>2019-10-01 06:42:24+00:00</td>\n",
       "      <td>7ae9e2f2ff7a87cd</td>\n",
       "      <td>1178923097002577924</td>\n",
       "      <td>en</td>\n",
       "      <td>15</td>\n",
       "      <td>1</td>\n",
       "      <td>3</td>\n",
       "      <td>8</td>\n",
       "      <td>Twitter for Android</td>\n",
       "      <td>'some roles are simply “unlikely to obtain a w...</td>\n",
       "      <td>[roles, simply, unlikely, obtain, work, permit...</td>\n",
       "      <td>roles simply unlikely obtain work permit says ...</td>\n",
       "      <td>roles simply unlikely obtain work permit says ...</td>\n",
       "      <td>roles simply unlikely obtain work permit says ...</td>\n",
       "      <td>True</td>\n",
       "    </tr>\n",
       "    <tr>\n",
       "      <th>27630</th>\n",
       "      <td>19528365</td>\n",
       "      <td>2019-10-01 06:39:32+00:00</td>\n",
       "      <td>604492c5e49c512b</td>\n",
       "      <td>1178922378329546752</td>\n",
       "      <td>en</td>\n",
       "      <td>0</td>\n",
       "      <td>0</td>\n",
       "      <td>0</td>\n",
       "      <td>0</td>\n",
       "      <td>Twitter for Android</td>\n",
       "      <td>so much for #globalbritain https://t.co/xvftov...</td>\n",
       "      <td>[much, globalbritain, co, xvftovhspp]</td>\n",
       "      <td>much globalbritain xvftovhspp</td>\n",
       "      <td>much globalbritain xvftovhspp</td>\n",
       "      <td>much globalbritain xvftovhspp</td>\n",
       "      <td>True</td>\n",
       "    </tr>\n",
       "    <tr>\n",
       "      <th>27631</th>\n",
       "      <td>226565998</td>\n",
       "      <td>2019-10-01 05:15:06+00:00</td>\n",
       "      <td>208d28e57bdc12e9</td>\n",
       "      <td>1178901127221387265</td>\n",
       "      <td>en</td>\n",
       "      <td>2</td>\n",
       "      <td>0</td>\n",
       "      <td>0</td>\n",
       "      <td>0</td>\n",
       "      <td>Twitter for iPhone</td>\n",
       "      <td>parents of year 6 pupils... thinking about #we...</td>\n",
       "      <td>[parents, year, 6, pupils, thinking, welshmedi...</td>\n",
       "      <td>parents year pupils thinking welshmediumeducat...</td>\n",
       "      <td>parents year pupils thinking welshmediumeducat...</td>\n",
       "      <td>parents year pupils thinking welshmediumeducat...</td>\n",
       "      <td>True</td>\n",
       "    </tr>\n",
       "    <tr>\n",
       "      <th>27632</th>\n",
       "      <td>296796716</td>\n",
       "      <td>2019-10-01 04:52:15+00:00</td>\n",
       "      <td>7d7bdec12d2549d4</td>\n",
       "      <td>1178895377778561028</td>\n",
       "      <td>en</td>\n",
       "      <td>11</td>\n",
       "      <td>0</td>\n",
       "      <td>3</td>\n",
       "      <td>3</td>\n",
       "      <td>Twitter for iPhone</td>\n",
       "      <td>announcing another 12 institutes of technology...</td>\n",
       "      <td>[announcing, another, 12, institutes, technolo...</td>\n",
       "      <td>announcing another institutes technology sign ...</td>\n",
       "      <td>announcing another institutes technology sign ...</td>\n",
       "      <td>announcing another institutes technology sign ...</td>\n",
       "      <td>True</td>\n",
       "    </tr>\n",
       "    <tr>\n",
       "      <th>27633</th>\n",
       "      <td>2411542681</td>\n",
       "      <td>2019-10-01 00:08:59+00:00</td>\n",
       "      <td>3b291275e7663301</td>\n",
       "      <td>1178824092885106688</td>\n",
       "      <td>en</td>\n",
       "      <td>1</td>\n",
       "      <td>0</td>\n",
       "      <td>0</td>\n",
       "      <td>0</td>\n",
       "      <td>Twitter for iPhone</td>\n",
       "      <td>last week we held our annual university fair. ...</td>\n",
       "      <td>[last, week, held, annual, university, fair, l...</td>\n",
       "      <td>last week held annual university fair level fo...</td>\n",
       "      <td>last week held annual university fair level fo...</td>\n",
       "      <td>last week held annual university fair level fo...</td>\n",
       "      <td>True</td>\n",
       "    </tr>\n",
       "  </tbody>\n",
       "</table>\n",
       "<p>27634 rows × 16 columns</p>\n",
       "</div>"
      ],
      "text/plain": [
       "                 author id                 created_at               geo  \\\n",
       "0                 35293835  2022-07-29 22:45:25+00:00  1da00c8852cc9da2   \n",
       "1                306923598  2022-07-29 21:34:24+00:00  47ff4825f135014a   \n",
       "2                247699711  2022-07-29 20:25:05+00:00  3fc4ee9a5c7f6631   \n",
       "3      1320306297384980481  2022-07-29 20:06:49+00:00  5376859fe6806d5b   \n",
       "4                464232084  2022-07-29 17:22:27+00:00  32c74076799957c5   \n",
       "...                    ...                        ...               ...   \n",
       "27629             96099375  2019-10-01 06:42:24+00:00  7ae9e2f2ff7a87cd   \n",
       "27630             19528365  2019-10-01 06:39:32+00:00  604492c5e49c512b   \n",
       "27631            226565998  2019-10-01 05:15:06+00:00  208d28e57bdc12e9   \n",
       "27632            296796716  2019-10-01 04:52:15+00:00  7d7bdec12d2549d4   \n",
       "27633           2411542681  2019-10-01 00:08:59+00:00  3b291275e7663301   \n",
       "\n",
       "                        id lang  like_count  quote_count  reply_count  \\\n",
       "0      1553149724965969921   en           0            0            0   \n",
       "1      1553131856287207424   en           0            0            0   \n",
       "2      1553114410213941252   en           2            0            0   \n",
       "3      1553109813202124800   en          10            0            0   \n",
       "4      1553068448158187520   en          11            0            2   \n",
       "...                    ...  ...         ...          ...          ...   \n",
       "27629  1178923097002577924   en          15            1            3   \n",
       "27630  1178922378329546752   en           0            0            0   \n",
       "27631  1178901127221387265   en           2            0            0   \n",
       "27632  1178895377778561028   en          11            0            3   \n",
       "27633  1178824092885106688   en           1            0            0   \n",
       "\n",
       "       retweet_count               source  \\\n",
       "0                  0      Twitter Web App   \n",
       "1                  0   Twitter for iPhone   \n",
       "2                  0   Twitter for iPhone   \n",
       "3                  0   Twitter for iPhone   \n",
       "4                  5  Twitter for Android   \n",
       "...              ...                  ...   \n",
       "27629              8  Twitter for Android   \n",
       "27630              0  Twitter for Android   \n",
       "27631              0   Twitter for iPhone   \n",
       "27632              3   Twitter for iPhone   \n",
       "27633              0   Twitter for iPhone   \n",
       "\n",
       "                                                   tweet  \\\n",
       "0      ok never heard of this. cc @traddingtonbear \\n...   \n",
       "1                 @russincheshire shit education system!   \n",
       "2      @bennewmark sadly very true. we need a big sha...   \n",
       "3      @goodwinmj thanks to institutional racism &amp...   \n",
       "4      🚨job opportunity @paramedicsuk 🚨\\n\\nwe need a ...   \n",
       "...                                                  ...   \n",
       "27629  'some roles are simply “unlikely to obtain a w...   \n",
       "27630  so much for #globalbritain https://t.co/xvftov...   \n",
       "27631  parents of year 6 pupils... thinking about #we...   \n",
       "27632  announcing another 12 institutes of technology...   \n",
       "27633  last week we held our annual university fair. ...   \n",
       "\n",
       "                                              text_token  \\\n",
       "0      [ok, never, heard, cc, traddingtonbear, co, uu...   \n",
       "1              [russincheshire, shit, education, system]   \n",
       "2      [bennewmark, sadly, true, need, big, shake, sy...   \n",
       "3      [goodwinmj, thanks, institutional, racism, dis...   \n",
       "4      [job, opportunity, paramedicsuk, need, new, he...   \n",
       "...                                                  ...   \n",
       "27629  [roles, simply, unlikely, obtain, work, permit...   \n",
       "27630              [much, globalbritain, co, xvftovhspp]   \n",
       "27631  [parents, year, 6, pupils, thinking, welshmedi...   \n",
       "27632  [announcing, another, 12, institutes, technolo...   \n",
       "27633  [last, week, held, annual, university, fair, l...   \n",
       "\n",
       "                                             text_string  \\\n",
       "0      never heard traddingtonbear uut3hoabdx heard i...   \n",
       "1                   russincheshire shit education system   \n",
       "2      bennewmark sadly true need big shake system st...   \n",
       "3      goodwinmj thanks institutional racism discrimi...   \n",
       "4      job opportunity paramedicsuk need new head edu...   \n",
       "...                                                  ...   \n",
       "27629  roles simply unlikely obtain work permit says ...   \n",
       "27630                      much globalbritain xvftovhspp   \n",
       "27631  parents year pupils thinking welshmediumeducat...   \n",
       "27632  announcing another institutes technology sign ...   \n",
       "27633  last week held annual university fair level fo...   \n",
       "\n",
       "                                       text_string_fdist  \\\n",
       "0      never heard traddingtonbear uut3hoabdx heard i...   \n",
       "1                   russincheshire shit education system   \n",
       "2      bennewmark sadly true need big shake system st...   \n",
       "3      goodwinmj thanks institutional racism discrimi...   \n",
       "4      job opportunity paramedicsuk need new head edu...   \n",
       "...                                                  ...   \n",
       "27629  roles simply unlikely obtain work permit says ...   \n",
       "27630                      much globalbritain xvftovhspp   \n",
       "27631  parents year pupils thinking welshmediumeducat...   \n",
       "27632  announcing another institutes technology sign ...   \n",
       "27633  last week held annual university fair level fo...   \n",
       "\n",
       "                                         text_string_lem  is_equal  \n",
       "0      never heard traddingtonbear uut3hoabdx heard i...      True  \n",
       "1                   russincheshire shit education system      True  \n",
       "2      bennewmark sadly true need big shake system st...      True  \n",
       "3      goodwinmj thanks institutional racism discrimi...      True  \n",
       "4      job opportunity paramedicsuk need new head edu...      True  \n",
       "...                                                  ...       ...  \n",
       "27629  roles simply unlikely obtain work permit says ...      True  \n",
       "27630                      much globalbritain xvftovhspp      True  \n",
       "27631  parents year pupils thinking welshmediumeducat...      True  \n",
       "27632  announcing another institutes technology sign ...      True  \n",
       "27633  last week held annual university fair level fo...      True  \n",
       "\n",
       "[27634 rows x 16 columns]"
      ]
     },
     "execution_count": 225,
     "metadata": {},
     "output_type": "execute_result"
    }
   ],
   "source": [
    "# check to see the state of our data frame\n",
    "data"
   ]
  },
  {
   "cell_type": "markdown",
   "metadata": {},
   "source": [
    "### Wordcloud\n",
    "We want to see the frequency of the different words present in the dataset "
   ]
  },
  {
   "cell_type": "code",
   "execution_count": 226,
   "metadata": {},
   "outputs": [
    {
     "data": {
      "image/png": "[encoded data removed]",
      "text/plain": [
       "<Figure size 720x504 with 1 Axes>"
      ]
     },
     "metadata": {
      "needs_background": "light"
     },
     "output_type": "display_data"
    }
   ],
   "source": [
    "%matplotlib inline\n",
    "import matplotlib.pyplot as plt\n",
    "from wordcloud import WordCloud\n",
    "\n",
    "all_words_lem = ' '.join([word for word in data['text_string_lem']])\n",
    "wordcloud = WordCloud(width=600, \n",
    "                     height=400, \n",
    "                     random_state=2,\n",
    "                     background_color='white', \n",
    "                     max_font_size=100).generate(all_words_lem)\n",
    "\n",
    "plt.figure(figsize=(10, 7))\n",
    "plt.imshow(wordcloud, interpolation='bilinear')\n",
    "plt.axis('off');"
   ]
  },
  {
   "cell_type": "code",
   "execution_count": 227,
   "metadata": {},
   "outputs": [
    {
     "name": "stderr",
     "output_type": "stream",
     "text": [
      "[nltk_data] Downloading package punkt to\n",
      "[nltk_data]     /Users/waleacloud/nltk_data...\n",
      "[nltk_data]   Package punkt is already up-to-date!\n"
     ]
    },
    {
     "data": {
      "text/plain": [
       "True"
      ]
     },
     "execution_count": 227,
     "metadata": {},
     "output_type": "execute_result"
    }
   ],
   "source": [
    "nltk.download('punkt')"
   ]
  },
  {
   "cell_type": "code",
   "execution_count": 228,
   "metadata": {},
   "outputs": [
    {
     "data": {
      "text/plain": [
       "[('education', 18834), ('system', 7427), ('students', 5086)]"
      ]
     },
     "execution_count": 228,
     "metadata": {},
     "output_type": "execute_result"
    }
   ],
   "source": [
    "from nltk.tokenize import word_tokenize\n",
    "from nltk.probability import FreqDist\n",
    "\n",
    "words = nltk.word_tokenize(all_words_lem)\n",
    "fd = FreqDist(words)\n",
    "\n",
    "# Most common words\n",
    "fd.most_common(3)"
   ]
  },
  {
   "cell_type": "code",
   "execution_count": 229,
   "metadata": {},
   "outputs": [
    {
     "name": "stdout",
     "output_type": "stream",
     "text": [
      "education    system  students    school   schools \n",
      "    18834      7427      5086      2895      2368 \n"
     ]
    }
   ],
   "source": [
    "fd.tabulate(5)"
   ]
  },
  {
   "cell_type": "markdown",
   "metadata": {},
   "source": [
    "### Plot common words"
   ]
  },
  {
   "cell_type": "code",
   "execution_count": 230,
   "metadata": {},
   "outputs": [
    {
     "data": {
      "image/png": "[encoded data removed]",
      "text/plain": [
       "<Figure size 432x288 with 1 Axes>"
      ]
     },
     "metadata": {},
     "output_type": "display_data"
    }
   ],
   "source": [
    "import seaborn as sns\n",
    "sns.set_theme(style=\"ticks\")\n",
    "\n",
    "# Obtain top 10 words\n",
    "top_10 = fd.most_common(10)\n",
    "\n",
    "# Create pandas series to make plotting easier\n",
    "fdist = pd.Series(dict(top_10))\n",
    "\n",
    "sns.barplot(y=fdist.index, x=fdist.values, color='red');\n"
   ]
  },
  {
   "cell_type": "code",
   "execution_count": 231,
   "metadata": {},
   "outputs": [
    {
     "data": {
      "application/vnd.plotly.v1+json": {
       "config": {
        "plotlyServerURL": "https://plot.ly"
       },
       "data": [
        {
         "alignmentgroup": "True",
         "hovertemplate": "x=%{x}<br>y=%{y}<extra></extra>",
         "legendgroup": "",
         "marker": {
          "color": "#636efa",
          "pattern": {
           "shape": ""
          }
         },
         "name": "",
         "offsetgroup": "",
         "orientation": "h",
         "showlegend": false,
         "textposition": "auto",
         "type": "bar",
         "x": [
          18834,
          7427,
          5086,
          2895,
          2368,
          2366,
          2025,
          1435,
          1427,
          1426
         ],
         "xaxis": "x",
         "y": [
          "education",
          "system",
          "students",
          "school",
          "schools",
          "people",
          "children",
          "one",
          "news",
          "get"
         ],
         "yaxis": "y"
        }
       ],
       "layout": {
        "barmode": "stack",
        "legend": {
         "tracegroupgap": 0
        },
        "margin": {
         "t": 60
        },
        "template": {
         "data": {
          "bar": [
           {
            "error_x": {
             "color": "#2a3f5f"
            },
            "error_y": {
             "color": "#2a3f5f"
            },
            "marker": {
             "line": {
              "color": "#E5ECF6",
              "width": 0.5
             },
             "pattern": {
              "fillmode": "overlay",
              "size": 10,
              "solidity": 0.2
             }
            },
            "type": "bar"
           }
          ],
          "barpolar": [
           {
            "marker": {
             "line": {
              "color": "#E5ECF6",
              "width": 0.5
             },
             "pattern": {
              "fillmode": "overlay",
              "size": 10,
              "solidity": 0.2
             }
            },
            "type": "barpolar"
           }
          ],
          "carpet": [
           {
            "aaxis": {
             "endlinecolor": "#2a3f5f",
             "gridcolor": "white",
             "linecolor": "white",
             "minorgridcolor": "white",
             "startlinecolor": "#2a3f5f"
            },
            "baxis": {
             "endlinecolor": "#2a3f5f",
             "gridcolor": "white",
             "linecolor": "white",
             "minorgridcolor": "white",
             "startlinecolor": "#2a3f5f"
            },
            "type": "carpet"
           }
          ],
          "choropleth": [
           {
            "colorbar": {
             "outlinewidth": 0,
             "ticks": ""
            },
            "type": "choropleth"
           }
          ],
          "contour": [
           {
            "colorbar": {
             "outlinewidth": 0,
             "ticks": ""
            },
            "colorscale": [
             [
              0,
              "#0d0887"
             ],
             [
              0.1111111111111111,
              "#46039f"
             ],
             [
              0.2222222222222222,
              "#7201a8"
             ],
             [
              0.3333333333333333,
              "#9c179e"
             ],
             [
              0.4444444444444444,
              "#bd3786"
             ],
             [
              0.5555555555555556,
              "#d8576b"
             ],
             [
              0.6666666666666666,
              "#ed7953"
             ],
             [
              0.7777777777777778,
              "#fb9f3a"
             ],
             [
              0.8888888888888888,
              "#fdca26"
             ],
             [
              1,
              "#f0f921"
             ]
            ],
            "type": "contour"
           }
          ],
          "contourcarpet": [
           {
            "colorbar": {
             "outlinewidth": 0,
             "ticks": ""
            },
            "type": "contourcarpet"
           }
          ],
          "heatmap": [
           {
            "colorbar": {
             "outlinewidth": 0,
             "ticks": ""
            },
            "colorscale": [
             [
              0,
              "#0d0887"
             ],
             [
              0.1111111111111111,
              "#46039f"
             ],
             [
              0.2222222222222222,
              "#7201a8"
             ],
             [
              0.3333333333333333,
              "#9c179e"
             ],
             [
              0.4444444444444444,
              "#bd3786"
             ],
             [
              0.5555555555555556,
              "#d8576b"
             ],
             [
              0.6666666666666666,
              "#ed7953"
             ],
             [
              0.7777777777777778,
              "#fb9f3a"
             ],
             [
              0.8888888888888888,
              "#fdca26"
             ],
             [
              1,
              "#f0f921"
             ]
            ],
            "type": "heatmap"
           }
          ],
          "heatmapgl": [
           {
            "colorbar": {
             "outlinewidth": 0,
             "ticks": ""
            },
            "colorscale": [
             [
              0,
              "#0d0887"
             ],
             [
              0.1111111111111111,
              "#46039f"
             ],
             [
              0.2222222222222222,
              "#7201a8"
             ],
             [
              0.3333333333333333,
              "#9c179e"
             ],
             [
              0.4444444444444444,
              "#bd3786"
             ],
             [
              0.5555555555555556,
              "#d8576b"
             ],
             [
              0.6666666666666666,
              "#ed7953"
             ],
             [
              0.7777777777777778,
              "#fb9f3a"
             ],
             [
              0.8888888888888888,
              "#fdca26"
             ],
             [
              1,
              "#f0f921"
             ]
            ],
            "type": "heatmapgl"
           }
          ],
          "histogram": [
           {
            "marker": {
             "pattern": {
              "fillmode": "overlay",
              "size": 10,
              "solidity": 0.2
             }
            },
            "type": "histogram"
           }
          ],
          "histogram2d": [
           {
            "colorbar": {
             "outlinewidth": 0,
             "ticks": ""
            },
            "colorscale": [
             [
              0,
              "#0d0887"
             ],
             [
              0.1111111111111111,
              "#46039f"
             ],
             [
              0.2222222222222222,
              "#7201a8"
             ],
             [
              0.3333333333333333,
              "#9c179e"
             ],
             [
              0.4444444444444444,
              "#bd3786"
             ],
             [
              0.5555555555555556,
              "#d8576b"
             ],
             [
              0.6666666666666666,
              "#ed7953"
             ],
             [
              0.7777777777777778,
              "#fb9f3a"
             ],
             [
              0.8888888888888888,
              "#fdca26"
             ],
             [
              1,
              "#f0f921"
             ]
            ],
            "type": "histogram2d"
           }
          ],
          "histogram2dcontour": [
           {
            "colorbar": {
             "outlinewidth": 0,
             "ticks": ""
            },
            "colorscale": [
             [
              0,
              "#0d0887"
             ],
             [
              0.1111111111111111,
              "#46039f"
             ],
             [
              0.2222222222222222,
              "#7201a8"
             ],
             [
              0.3333333333333333,
              "#9c179e"
             ],
             [
              0.4444444444444444,
              "#bd3786"
             ],
             [
              0.5555555555555556,
              "#d8576b"
             ],
             [
              0.6666666666666666,
              "#ed7953"
             ],
             [
              0.7777777777777778,
              "#fb9f3a"
             ],
             [
              0.8888888888888888,
              "#fdca26"
             ],
             [
              1,
              "#f0f921"
             ]
            ],
            "type": "histogram2dcontour"
           }
          ],
          "mesh3d": [
           {
            "colorbar": {
             "outlinewidth": 0,
             "ticks": ""
            },
            "type": "mesh3d"
           }
          ],
          "parcoords": [
           {
            "line": {
             "colorbar": {
              "outlinewidth": 0,
              "ticks": ""
             }
            },
            "type": "parcoords"
           }
          ],
          "pie": [
           {
            "automargin": true,
            "type": "pie"
           }
          ],
          "scatter": [
           {
            "marker": {
             "colorbar": {
              "outlinewidth": 0,
              "ticks": ""
             }
            },
            "type": "scatter"
           }
          ],
          "scatter3d": [
           {
            "line": {
             "colorbar": {
              "outlinewidth": 0,
              "ticks": ""
             }
            },
            "marker": {
             "colorbar": {
              "outlinewidth": 0,
              "ticks": ""
             }
            },
            "type": "scatter3d"
           }
          ],
          "scattercarpet": [
           {
            "marker": {
             "colorbar": {
              "outlinewidth": 0,
              "ticks": ""
             }
            },
            "type": "scattercarpet"
           }
          ],
          "scattergeo": [
           {
            "marker": {
             "colorbar": {
              "outlinewidth": 0,
              "ticks": ""
             }
            },
            "type": "scattergeo"
           }
          ],
          "scattergl": [
           {
            "marker": {
             "colorbar": {
              "outlinewidth": 0,
              "ticks": ""
             }
            },
            "type": "scattergl"
           }
          ],
          "scattermapbox": [
           {
            "marker": {
             "colorbar": {
              "outlinewidth": 0,
              "ticks": ""
             }
            },
            "type": "scattermapbox"
           }
          ],
          "scatterpolar": [
           {
            "marker": {
             "colorbar": {
              "outlinewidth": 0,
              "ticks": ""
             }
            },
            "type": "scatterpolar"
           }
          ],
          "scatterpolargl": [
           {
            "marker": {
             "colorbar": {
              "outlinewidth": 0,
              "ticks": ""
             }
            },
            "type": "scatterpolargl"
           }
          ],
          "scatterternary": [
           {
            "marker": {
             "colorbar": {
              "outlinewidth": 0,
              "ticks": ""
             }
            },
            "type": "scatterternary"
           }
          ],
          "surface": [
           {
            "colorbar": {
             "outlinewidth": 0,
             "ticks": ""
            },
            "colorscale": [
             [
              0,
              "#0d0887"
             ],
             [
              0.1111111111111111,
              "#46039f"
             ],
             [
              0.2222222222222222,
              "#7201a8"
             ],
             [
              0.3333333333333333,
              "#9c179e"
             ],
             [
              0.4444444444444444,
              "#bd3786"
             ],
             [
              0.5555555555555556,
              "#d8576b"
             ],
             [
              0.6666666666666666,
              "#ed7953"
             ],
             [
              0.7777777777777778,
              "#fb9f3a"
             ],
             [
              0.8888888888888888,
              "#fdca26"
             ],
             [
              1,
              "#f0f921"
             ]
            ],
            "type": "surface"
           }
          ],
          "table": [
           {
            "cells": {
             "fill": {
              "color": "#EBF0F8"
             },
             "line": {
              "color": "white"
             }
            },
            "header": {
             "fill": {
              "color": "#C8D4E3"
             },
             "line": {
              "color": "white"
             }
            },
            "type": "table"
           }
          ]
         },
         "layout": {
          "annotationdefaults": {
           "arrowcolor": "#2a3f5f",
           "arrowhead": 0,
           "arrowwidth": 1
          },
          "autotypenumbers": "strict",
          "coloraxis": {
           "colorbar": {
            "outlinewidth": 0,
            "ticks": ""
           }
          },
          "colorscale": {
           "diverging": [
            [
             0,
             "#8e0152"
            ],
            [
             0.1,
             "#c51b7d"
            ],
            [
             0.2,
             "#de77ae"
            ],
            [
             0.3,
             "#f1b6da"
            ],
            [
             0.4,
             "#fde0ef"
            ],
            [
             0.5,
             "#f7f7f7"
            ],
            [
             0.6,
             "#e6f5d0"
            ],
            [
             0.7,
             "#b8e186"
            ],
            [
             0.8,
             "#7fbc41"
            ],
            [
             0.9,
             "#4d9221"
            ],
            [
             1,
             "#276419"
            ]
           ],
           "sequential": [
            [
             0,
             "#0d0887"
            ],
            [
             0.1111111111111111,
             "#46039f"
            ],
            [
             0.2222222222222222,
             "#7201a8"
            ],
            [
             0.3333333333333333,
             "#9c179e"
            ],
            [
             0.4444444444444444,
             "#bd3786"
            ],
            [
             0.5555555555555556,
             "#d8576b"
            ],
            [
             0.6666666666666666,
             "#ed7953"
            ],
            [
             0.7777777777777778,
             "#fb9f3a"
            ],
            [
             0.8888888888888888,
             "#fdca26"
            ],
            [
             1,
             "#f0f921"
            ]
           ],
           "sequentialminus": [
            [
             0,
             "#0d0887"
            ],
            [
             0.1111111111111111,
             "#46039f"
            ],
            [
             0.2222222222222222,
             "#7201a8"
            ],
            [
             0.3333333333333333,
             "#9c179e"
            ],
            [
             0.4444444444444444,
             "#bd3786"
            ],
            [
             0.5555555555555556,
             "#d8576b"
            ],
            [
             0.6666666666666666,
             "#ed7953"
            ],
            [
             0.7777777777777778,
             "#fb9f3a"
            ],
            [
             0.8888888888888888,
             "#fdca26"
            ],
            [
             1,
             "#f0f921"
            ]
           ]
          },
          "colorway": [
           "#636efa",
           "#EF553B",
           "#00cc96",
           "#ab63fa",
           "#FFA15A",
           "#19d3f3",
           "#FF6692",
           "#B6E880",
           "#FF97FF",
           "#FECB52"
          ],
          "font": {
           "color": "#2a3f5f"
          },
          "geo": {
           "bgcolor": "white",
           "lakecolor": "white",
           "landcolor": "#E5ECF6",
           "showlakes": true,
           "showland": true,
           "subunitcolor": "white"
          },
          "hoverlabel": {
           "align": "left"
          },
          "hovermode": "closest",
          "mapbox": {
           "style": "light"
          },
          "paper_bgcolor": "white",
          "plot_bgcolor": "#E5ECF6",
          "polar": {
           "angularaxis": {
            "gridcolor": "white",
            "linecolor": "white",
            "ticks": ""
           },
           "bgcolor": "#E5ECF6",
           "radialaxis": {
            "gridcolor": "white",
            "linecolor": "white",
            "ticks": ""
           }
          },
          "scene": {
           "xaxis": {
            "backgroundcolor": "#E5ECF6",
            "gridcolor": "white",
            "gridwidth": 2,
            "linecolor": "white",
            "showbackground": true,
            "ticks": "",
            "zerolinecolor": "white"
           },
           "yaxis": {
            "backgroundcolor": "#E5ECF6",
            "gridcolor": "white",
            "gridwidth": 2,
            "linecolor": "white",
            "showbackground": true,
            "ticks": "",
            "zerolinecolor": "white"
           },
           "zaxis": {
            "backgroundcolor": "#E5ECF6",
            "gridcolor": "white",
            "gridwidth": 2,
            "linecolor": "white",
            "showbackground": true,
            "ticks": "",
            "zerolinecolor": "white"
           }
          },
          "shapedefaults": {
           "line": {
            "color": "#2a3f5f"
           }
          },
          "ternary": {
           "aaxis": {
            "gridcolor": "white",
            "linecolor": "white",
            "ticks": ""
           },
           "baxis": {
            "gridcolor": "white",
            "linecolor": "white",
            "ticks": ""
           },
           "bgcolor": "#E5ECF6",
           "caxis": {
            "gridcolor": "white",
            "linecolor": "white",
            "ticks": ""
           }
          },
          "title": {
           "x": 0.05
          },
          "xaxis": {
           "automargin": true,
           "gridcolor": "white",
           "linecolor": "white",
           "ticks": "",
           "title": {
            "standoff": 15
           },
           "zerolinecolor": "white",
           "zerolinewidth": 2
          },
          "yaxis": {
           "automargin": true,
           "gridcolor": "white",
           "linecolor": "white",
           "ticks": "",
           "title": {
            "standoff": 15
           },
           "zerolinecolor": "white",
           "zerolinewidth": 2
          }
         }
        },
        "xaxis": {
         "anchor": "y",
         "domain": [
          0,
          1
         ],
         "title": {
          "text": "x"
         }
        },
        "yaxis": {
         "anchor": "x",
         "categoryorder": "total ascending",
         "domain": [
          0,
          1
         ],
         "title": {
          "text": "y"
         }
        }
       }
      }
     },
     "metadata": {},
     "output_type": "display_data"
    }
   ],
   "source": [
    "import plotly.express as px\n",
    "\n",
    "fig = px.bar(y=fdist.index, x=fdist.values)\n",
    "\n",
    "# sort values\n",
    "fig.update_layout(barmode='stack', yaxis={'categoryorder':'total ascending'})\n",
    "\n",
    "# show plot\n",
    "fig.show()"
   ]
  },
  {
   "cell_type": "markdown",
   "metadata": {},
   "source": [
    "# Sentiment Analysis\n",
    "\n",
    "We will be using VADER lexicon\n",
    "NLTK provides a simple rule-based model for general sentiment analysis called VADER, which stands for “Valence Aware Dictionary and Sentiment Reasoner” (Hutto & Gilbert, 2014)."
   ]
  },
  {
   "cell_type": "code",
   "execution_count": 232,
   "metadata": {},
   "outputs": [
    {
     "name": "stderr",
     "output_type": "stream",
     "text": [
      "[nltk_data] Downloading package vader_lexicon to\n",
      "[nltk_data]     /Users/waleacloud/nltk_data...\n",
      "[nltk_data]   Package vader_lexicon is already up-to-date!\n"
     ]
    },
    {
     "data": {
      "text/plain": [
       "True"
      ]
     },
     "execution_count": 232,
     "metadata": {},
     "output_type": "execute_result"
    }
   ],
   "source": [
    "nltk.download('vader_lexicon')"
   ]
  },
  {
   "cell_type": "code",
   "execution_count": 233,
   "metadata": {},
   "outputs": [
    {
     "data": {
      "text/html": [
       "<div>\n",
       "<style scoped>\n",
       "    .dataframe tbody tr th:only-of-type {\n",
       "        vertical-align: middle;\n",
       "    }\n",
       "\n",
       "    .dataframe tbody tr th {\n",
       "        vertical-align: top;\n",
       "    }\n",
       "\n",
       "    .dataframe thead th {\n",
       "        text-align: right;\n",
       "    }\n",
       "</style>\n",
       "<table border=\"1\" class=\"dataframe\">\n",
       "  <thead>\n",
       "    <tr style=\"text-align: right;\">\n",
       "      <th></th>\n",
       "      <th>author id</th>\n",
       "      <th>created_at</th>\n",
       "      <th>geo</th>\n",
       "      <th>id</th>\n",
       "      <th>lang</th>\n",
       "      <th>like_count</th>\n",
       "      <th>quote_count</th>\n",
       "      <th>reply_count</th>\n",
       "      <th>retweet_count</th>\n",
       "      <th>source</th>\n",
       "      <th>tweet</th>\n",
       "      <th>text_token</th>\n",
       "      <th>text_string</th>\n",
       "      <th>text_string_fdist</th>\n",
       "      <th>text_string_lem</th>\n",
       "      <th>is_equal</th>\n",
       "      <th>polarity</th>\n",
       "    </tr>\n",
       "  </thead>\n",
       "  <tbody>\n",
       "    <tr>\n",
       "      <th>27631</th>\n",
       "      <td>226565998</td>\n",
       "      <td>2019-10-01 05:15:06+00:00</td>\n",
       "      <td>208d28e57bdc12e9</td>\n",
       "      <td>1178901127221387265</td>\n",
       "      <td>en</td>\n",
       "      <td>2</td>\n",
       "      <td>0</td>\n",
       "      <td>0</td>\n",
       "      <td>0</td>\n",
       "      <td>Twitter for iPhone</td>\n",
       "      <td>parents of year 6 pupils... thinking about #we...</td>\n",
       "      <td>[parents, year, 6, pupils, thinking, welshmedi...</td>\n",
       "      <td>parents year pupils thinking welshmediumeducat...</td>\n",
       "      <td>parents year pupils thinking welshmediumeducat...</td>\n",
       "      <td>parents year pupils thinking welshmediumeducat...</td>\n",
       "      <td>True</td>\n",
       "      <td>{'neg': 0.0, 'neu': 1.0, 'pos': 0.0, 'compound...</td>\n",
       "    </tr>\n",
       "    <tr>\n",
       "      <th>27632</th>\n",
       "      <td>296796716</td>\n",
       "      <td>2019-10-01 04:52:15+00:00</td>\n",
       "      <td>7d7bdec12d2549d4</td>\n",
       "      <td>1178895377778561028</td>\n",
       "      <td>en</td>\n",
       "      <td>11</td>\n",
       "      <td>0</td>\n",
       "      <td>3</td>\n",
       "      <td>3</td>\n",
       "      <td>Twitter for iPhone</td>\n",
       "      <td>announcing another 12 institutes of technology...</td>\n",
       "      <td>[announcing, another, 12, institutes, technolo...</td>\n",
       "      <td>announcing another institutes technology sign ...</td>\n",
       "      <td>announcing another institutes technology sign ...</td>\n",
       "      <td>announcing another institutes technology sign ...</td>\n",
       "      <td>True</td>\n",
       "      <td>{'neg': 0.172, 'neu': 0.677, 'pos': 0.151, 'co...</td>\n",
       "    </tr>\n",
       "    <tr>\n",
       "      <th>27633</th>\n",
       "      <td>2411542681</td>\n",
       "      <td>2019-10-01 00:08:59+00:00</td>\n",
       "      <td>3b291275e7663301</td>\n",
       "      <td>1178824092885106688</td>\n",
       "      <td>en</td>\n",
       "      <td>1</td>\n",
       "      <td>0</td>\n",
       "      <td>0</td>\n",
       "      <td>0</td>\n",
       "      <td>Twitter for iPhone</td>\n",
       "      <td>last week we held our annual university fair. ...</td>\n",
       "      <td>[last, week, held, annual, university, fair, l...</td>\n",
       "      <td>last week held annual university fair level fo...</td>\n",
       "      <td>last week held annual university fair level fo...</td>\n",
       "      <td>last week held annual university fair level fo...</td>\n",
       "      <td>True</td>\n",
       "      <td>{'neg': 0.0, 'neu': 0.717, 'pos': 0.283, 'comp...</td>\n",
       "    </tr>\n",
       "  </tbody>\n",
       "</table>\n",
       "</div>"
      ],
      "text/plain": [
       "        author id                 created_at               geo  \\\n",
       "27631   226565998  2019-10-01 05:15:06+00:00  208d28e57bdc12e9   \n",
       "27632   296796716  2019-10-01 04:52:15+00:00  7d7bdec12d2549d4   \n",
       "27633  2411542681  2019-10-01 00:08:59+00:00  3b291275e7663301   \n",
       "\n",
       "                        id lang  like_count  quote_count  reply_count  \\\n",
       "27631  1178901127221387265   en           2            0            0   \n",
       "27632  1178895377778561028   en          11            0            3   \n",
       "27633  1178824092885106688   en           1            0            0   \n",
       "\n",
       "       retweet_count              source  \\\n",
       "27631              0  Twitter for iPhone   \n",
       "27632              3  Twitter for iPhone   \n",
       "27633              0  Twitter for iPhone   \n",
       "\n",
       "                                                   tweet  \\\n",
       "27631  parents of year 6 pupils... thinking about #we...   \n",
       "27632  announcing another 12 institutes of technology...   \n",
       "27633  last week we held our annual university fair. ...   \n",
       "\n",
       "                                              text_token  \\\n",
       "27631  [parents, year, 6, pupils, thinking, welshmedi...   \n",
       "27632  [announcing, another, 12, institutes, technolo...   \n",
       "27633  [last, week, held, annual, university, fair, l...   \n",
       "\n",
       "                                             text_string  \\\n",
       "27631  parents year pupils thinking welshmediumeducat...   \n",
       "27632  announcing another institutes technology sign ...   \n",
       "27633  last week held annual university fair level fo...   \n",
       "\n",
       "                                       text_string_fdist  \\\n",
       "27631  parents year pupils thinking welshmediumeducat...   \n",
       "27632  announcing another institutes technology sign ...   \n",
       "27633  last week held annual university fair level fo...   \n",
       "\n",
       "                                         text_string_lem  is_equal  \\\n",
       "27631  parents year pupils thinking welshmediumeducat...      True   \n",
       "27632  announcing another institutes technology sign ...      True   \n",
       "27633  last week held annual university fair level fo...      True   \n",
       "\n",
       "                                                polarity  \n",
       "27631  {'neg': 0.0, 'neu': 1.0, 'pos': 0.0, 'compound...  \n",
       "27632  {'neg': 0.172, 'neu': 0.677, 'pos': 0.151, 'co...  \n",
       "27633  {'neg': 0.0, 'neu': 0.717, 'pos': 0.283, 'comp...  "
      ]
     },
     "execution_count": 233,
     "metadata": {},
     "output_type": "execute_result"
    }
   ],
   "source": [
    "from nltk.sentiment import SentimentIntensityAnalyzer\n",
    "\n",
    "analyzer = SentimentIntensityAnalyzer()\n",
    "\n",
    "# get polarity\n",
    "data['polarity'] = data['text_string_lem'].apply(lambda x: analyzer.polarity_scores(x))\n",
    "data.tail(3)"
   ]
  },
  {
   "cell_type": "markdown",
   "metadata": {},
   "source": [
    "### Transform data\n",
    "We now need to tranform our data to be able to perform accurate sentiment analysis"
   ]
  },
  {
   "cell_type": "code",
   "execution_count": 234,
   "metadata": {},
   "outputs": [
    {
     "data": {
      "text/html": [
       "<div>\n",
       "<style scoped>\n",
       "    .dataframe tbody tr th:only-of-type {\n",
       "        vertical-align: middle;\n",
       "    }\n",
       "\n",
       "    .dataframe tbody tr th {\n",
       "        vertical-align: top;\n",
       "    }\n",
       "\n",
       "    .dataframe thead th {\n",
       "        text-align: right;\n",
       "    }\n",
       "</style>\n",
       "<table border=\"1\" class=\"dataframe\">\n",
       "  <thead>\n",
       "    <tr style=\"text-align: right;\">\n",
       "      <th></th>\n",
       "      <th>author id</th>\n",
       "      <th>created_at</th>\n",
       "      <th>geo</th>\n",
       "      <th>id</th>\n",
       "      <th>lang</th>\n",
       "      <th>like_count</th>\n",
       "      <th>quote_count</th>\n",
       "      <th>reply_count</th>\n",
       "      <th>retweet_count</th>\n",
       "      <th>source</th>\n",
       "      <th>tweet</th>\n",
       "      <th>text_token</th>\n",
       "      <th>text_string</th>\n",
       "      <th>text_string_fdist</th>\n",
       "      <th>text_string_lem</th>\n",
       "      <th>is_equal</th>\n",
       "      <th>neg</th>\n",
       "      <th>neu</th>\n",
       "      <th>pos</th>\n",
       "      <th>compound</th>\n",
       "    </tr>\n",
       "  </thead>\n",
       "  <tbody>\n",
       "    <tr>\n",
       "      <th>0</th>\n",
       "      <td>35293835</td>\n",
       "      <td>2022-07-29 22:45:25+00:00</td>\n",
       "      <td>1da00c8852cc9da2</td>\n",
       "      <td>1553149724965969921</td>\n",
       "      <td>en</td>\n",
       "      <td>0</td>\n",
       "      <td>0</td>\n",
       "      <td>0</td>\n",
       "      <td>0</td>\n",
       "      <td>Twitter Web App</td>\n",
       "      <td>ok never heard of this. cc @traddingtonbear \\n...</td>\n",
       "      <td>[ok, never, heard, cc, traddingtonbear, co, uu...</td>\n",
       "      <td>never heard traddingtonbear uut3hoabdx heard i...</td>\n",
       "      <td>never heard traddingtonbear uut3hoabdx heard i...</td>\n",
       "      <td>never heard traddingtonbear uut3hoabdx heard i...</td>\n",
       "      <td>True</td>\n",
       "      <td>0.000</td>\n",
       "      <td>1.000</td>\n",
       "      <td>0.000</td>\n",
       "      <td>0.0000</td>\n",
       "    </tr>\n",
       "    <tr>\n",
       "      <th>1</th>\n",
       "      <td>306923598</td>\n",
       "      <td>2022-07-29 21:34:24+00:00</td>\n",
       "      <td>47ff4825f135014a</td>\n",
       "      <td>1553131856287207424</td>\n",
       "      <td>en</td>\n",
       "      <td>0</td>\n",
       "      <td>0</td>\n",
       "      <td>0</td>\n",
       "      <td>0</td>\n",
       "      <td>Twitter for iPhone</td>\n",
       "      <td>@russincheshire shit education system!</td>\n",
       "      <td>[russincheshire, shit, education, system]</td>\n",
       "      <td>russincheshire shit education system</td>\n",
       "      <td>russincheshire shit education system</td>\n",
       "      <td>russincheshire shit education system</td>\n",
       "      <td>True</td>\n",
       "      <td>0.545</td>\n",
       "      <td>0.455</td>\n",
       "      <td>0.000</td>\n",
       "      <td>-0.5574</td>\n",
       "    </tr>\n",
       "    <tr>\n",
       "      <th>2</th>\n",
       "      <td>247699711</td>\n",
       "      <td>2022-07-29 20:25:05+00:00</td>\n",
       "      <td>3fc4ee9a5c7f6631</td>\n",
       "      <td>1553114410213941252</td>\n",
       "      <td>en</td>\n",
       "      <td>2</td>\n",
       "      <td>0</td>\n",
       "      <td>0</td>\n",
       "      <td>0</td>\n",
       "      <td>Twitter for iPhone</td>\n",
       "      <td>@bennewmark sadly very true. we need a big sha...</td>\n",
       "      <td>[bennewmark, sadly, true, need, big, shake, sy...</td>\n",
       "      <td>bennewmark sadly true need big shake system st...</td>\n",
       "      <td>bennewmark sadly true need big shake system st...</td>\n",
       "      <td>bennewmark sadly true need big shake system st...</td>\n",
       "      <td>True</td>\n",
       "      <td>0.195</td>\n",
       "      <td>0.519</td>\n",
       "      <td>0.286</td>\n",
       "      <td>0.4767</td>\n",
       "    </tr>\n",
       "  </tbody>\n",
       "</table>\n",
       "</div>"
      ],
      "text/plain": [
       "   author id                 created_at               geo  \\\n",
       "0   35293835  2022-07-29 22:45:25+00:00  1da00c8852cc9da2   \n",
       "1  306923598  2022-07-29 21:34:24+00:00  47ff4825f135014a   \n",
       "2  247699711  2022-07-29 20:25:05+00:00  3fc4ee9a5c7f6631   \n",
       "\n",
       "                    id lang  like_count  quote_count  reply_count  \\\n",
       "0  1553149724965969921   en           0            0            0   \n",
       "1  1553131856287207424   en           0            0            0   \n",
       "2  1553114410213941252   en           2            0            0   \n",
       "\n",
       "   retweet_count              source  \\\n",
       "0              0     Twitter Web App   \n",
       "1              0  Twitter for iPhone   \n",
       "2              0  Twitter for iPhone   \n",
       "\n",
       "                                               tweet  \\\n",
       "0  ok never heard of this. cc @traddingtonbear \\n...   \n",
       "1             @russincheshire shit education system!   \n",
       "2  @bennewmark sadly very true. we need a big sha...   \n",
       "\n",
       "                                          text_token  \\\n",
       "0  [ok, never, heard, cc, traddingtonbear, co, uu...   \n",
       "1          [russincheshire, shit, education, system]   \n",
       "2  [bennewmark, sadly, true, need, big, shake, sy...   \n",
       "\n",
       "                                         text_string  \\\n",
       "0  never heard traddingtonbear uut3hoabdx heard i...   \n",
       "1               russincheshire shit education system   \n",
       "2  bennewmark sadly true need big shake system st...   \n",
       "\n",
       "                                   text_string_fdist  \\\n",
       "0  never heard traddingtonbear uut3hoabdx heard i...   \n",
       "1               russincheshire shit education system   \n",
       "2  bennewmark sadly true need big shake system st...   \n",
       "\n",
       "                                     text_string_lem  is_equal    neg    neu  \\\n",
       "0  never heard traddingtonbear uut3hoabdx heard i...      True  0.000  1.000   \n",
       "1               russincheshire shit education system      True  0.545  0.455   \n",
       "2  bennewmark sadly true need big shake system st...      True  0.195  0.519   \n",
       "\n",
       "     pos  compound  \n",
       "0  0.000    0.0000  \n",
       "1  0.000   -0.5574  \n",
       "2  0.286    0.4767  "
      ]
     },
     "execution_count": 234,
     "metadata": {},
     "output_type": "execute_result"
    }
   ],
   "source": [
    "# Change data structure\n",
    "data = pd.concat(\n",
    "    [data.drop(['polarity'], axis=1), \n",
    "     data['polarity'].apply(pd.Series)], axis=1)\n",
    "data.head(3)"
   ]
  },
  {
   "cell_type": "code",
   "execution_count": 235,
   "metadata": {},
   "outputs": [
    {
     "data": {
      "text/html": [
       "<div>\n",
       "<style scoped>\n",
       "    .dataframe tbody tr th:only-of-type {\n",
       "        vertical-align: middle;\n",
       "    }\n",
       "\n",
       "    .dataframe tbody tr th {\n",
       "        vertical-align: top;\n",
       "    }\n",
       "\n",
       "    .dataframe thead th {\n",
       "        text-align: right;\n",
       "    }\n",
       "</style>\n",
       "<table border=\"1\" class=\"dataframe\">\n",
       "  <thead>\n",
       "    <tr style=\"text-align: right;\">\n",
       "      <th></th>\n",
       "      <th>author id</th>\n",
       "      <th>created_at</th>\n",
       "      <th>geo</th>\n",
       "      <th>id</th>\n",
       "      <th>lang</th>\n",
       "      <th>like_count</th>\n",
       "      <th>quote_count</th>\n",
       "      <th>reply_count</th>\n",
       "      <th>retweet_count</th>\n",
       "      <th>source</th>\n",
       "      <th>...</th>\n",
       "      <th>text_token</th>\n",
       "      <th>text_string</th>\n",
       "      <th>text_string_fdist</th>\n",
       "      <th>text_string_lem</th>\n",
       "      <th>is_equal</th>\n",
       "      <th>neg</th>\n",
       "      <th>neu</th>\n",
       "      <th>pos</th>\n",
       "      <th>compound</th>\n",
       "      <th>sentiment</th>\n",
       "    </tr>\n",
       "  </thead>\n",
       "  <tbody>\n",
       "    <tr>\n",
       "      <th>0</th>\n",
       "      <td>35293835</td>\n",
       "      <td>2022-07-29 22:45:25+00:00</td>\n",
       "      <td>1da00c8852cc9da2</td>\n",
       "      <td>1553149724965969921</td>\n",
       "      <td>en</td>\n",
       "      <td>0</td>\n",
       "      <td>0</td>\n",
       "      <td>0</td>\n",
       "      <td>0</td>\n",
       "      <td>Twitter Web App</td>\n",
       "      <td>...</td>\n",
       "      <td>[ok, never, heard, cc, traddingtonbear, co, uu...</td>\n",
       "      <td>never heard traddingtonbear uut3hoabdx heard i...</td>\n",
       "      <td>never heard traddingtonbear uut3hoabdx heard i...</td>\n",
       "      <td>never heard traddingtonbear uut3hoabdx heard i...</td>\n",
       "      <td>True</td>\n",
       "      <td>0.000</td>\n",
       "      <td>1.000</td>\n",
       "      <td>0.000</td>\n",
       "      <td>0.0000</td>\n",
       "      <td>neutral</td>\n",
       "    </tr>\n",
       "    <tr>\n",
       "      <th>1</th>\n",
       "      <td>306923598</td>\n",
       "      <td>2022-07-29 21:34:24+00:00</td>\n",
       "      <td>47ff4825f135014a</td>\n",
       "      <td>1553131856287207424</td>\n",
       "      <td>en</td>\n",
       "      <td>0</td>\n",
       "      <td>0</td>\n",
       "      <td>0</td>\n",
       "      <td>0</td>\n",
       "      <td>Twitter for iPhone</td>\n",
       "      <td>...</td>\n",
       "      <td>[russincheshire, shit, education, system]</td>\n",
       "      <td>russincheshire shit education system</td>\n",
       "      <td>russincheshire shit education system</td>\n",
       "      <td>russincheshire shit education system</td>\n",
       "      <td>True</td>\n",
       "      <td>0.545</td>\n",
       "      <td>0.455</td>\n",
       "      <td>0.000</td>\n",
       "      <td>-0.5574</td>\n",
       "      <td>negative</td>\n",
       "    </tr>\n",
       "    <tr>\n",
       "      <th>2</th>\n",
       "      <td>247699711</td>\n",
       "      <td>2022-07-29 20:25:05+00:00</td>\n",
       "      <td>3fc4ee9a5c7f6631</td>\n",
       "      <td>1553114410213941252</td>\n",
       "      <td>en</td>\n",
       "      <td>2</td>\n",
       "      <td>0</td>\n",
       "      <td>0</td>\n",
       "      <td>0</td>\n",
       "      <td>Twitter for iPhone</td>\n",
       "      <td>...</td>\n",
       "      <td>[bennewmark, sadly, true, need, big, shake, sy...</td>\n",
       "      <td>bennewmark sadly true need big shake system st...</td>\n",
       "      <td>bennewmark sadly true need big shake system st...</td>\n",
       "      <td>bennewmark sadly true need big shake system st...</td>\n",
       "      <td>True</td>\n",
       "      <td>0.195</td>\n",
       "      <td>0.519</td>\n",
       "      <td>0.286</td>\n",
       "      <td>0.4767</td>\n",
       "      <td>positive</td>\n",
       "    </tr>\n",
       "    <tr>\n",
       "      <th>3</th>\n",
       "      <td>1320306297384980481</td>\n",
       "      <td>2022-07-29 20:06:49+00:00</td>\n",
       "      <td>5376859fe6806d5b</td>\n",
       "      <td>1553109813202124800</td>\n",
       "      <td>en</td>\n",
       "      <td>10</td>\n",
       "      <td>0</td>\n",
       "      <td>0</td>\n",
       "      <td>0</td>\n",
       "      <td>Twitter for iPhone</td>\n",
       "      <td>...</td>\n",
       "      <td>[goodwinmj, thanks, institutional, racism, dis...</td>\n",
       "      <td>goodwinmj thanks institutional racism discrimi...</td>\n",
       "      <td>goodwinmj thanks institutional racism discrimi...</td>\n",
       "      <td>goodwinmj thanks institutional racism discrimi...</td>\n",
       "      <td>True</td>\n",
       "      <td>0.431</td>\n",
       "      <td>0.494</td>\n",
       "      <td>0.075</td>\n",
       "      <td>-0.9287</td>\n",
       "      <td>negative</td>\n",
       "    </tr>\n",
       "  </tbody>\n",
       "</table>\n",
       "<p>4 rows × 21 columns</p>\n",
       "</div>"
      ],
      "text/plain": [
       "             author id                 created_at               geo  \\\n",
       "0             35293835  2022-07-29 22:45:25+00:00  1da00c8852cc9da2   \n",
       "1            306923598  2022-07-29 21:34:24+00:00  47ff4825f135014a   \n",
       "2            247699711  2022-07-29 20:25:05+00:00  3fc4ee9a5c7f6631   \n",
       "3  1320306297384980481  2022-07-29 20:06:49+00:00  5376859fe6806d5b   \n",
       "\n",
       "                    id lang  like_count  quote_count  reply_count  \\\n",
       "0  1553149724965969921   en           0            0            0   \n",
       "1  1553131856287207424   en           0            0            0   \n",
       "2  1553114410213941252   en           2            0            0   \n",
       "3  1553109813202124800   en          10            0            0   \n",
       "\n",
       "   retweet_count              source  ...  \\\n",
       "0              0     Twitter Web App  ...   \n",
       "1              0  Twitter for iPhone  ...   \n",
       "2              0  Twitter for iPhone  ...   \n",
       "3              0  Twitter for iPhone  ...   \n",
       "\n",
       "                                          text_token  \\\n",
       "0  [ok, never, heard, cc, traddingtonbear, co, uu...   \n",
       "1          [russincheshire, shit, education, system]   \n",
       "2  [bennewmark, sadly, true, need, big, shake, sy...   \n",
       "3  [goodwinmj, thanks, institutional, racism, dis...   \n",
       "\n",
       "                                         text_string  \\\n",
       "0  never heard traddingtonbear uut3hoabdx heard i...   \n",
       "1               russincheshire shit education system   \n",
       "2  bennewmark sadly true need big shake system st...   \n",
       "3  goodwinmj thanks institutional racism discrimi...   \n",
       "\n",
       "                                   text_string_fdist  \\\n",
       "0  never heard traddingtonbear uut3hoabdx heard i...   \n",
       "1               russincheshire shit education system   \n",
       "2  bennewmark sadly true need big shake system st...   \n",
       "3  goodwinmj thanks institutional racism discrimi...   \n",
       "\n",
       "                                     text_string_lem is_equal    neg    neu  \\\n",
       "0  never heard traddingtonbear uut3hoabdx heard i...     True  0.000  1.000   \n",
       "1               russincheshire shit education system     True  0.545  0.455   \n",
       "2  bennewmark sadly true need big shake system st...     True  0.195  0.519   \n",
       "3  goodwinmj thanks institutional racism discrimi...     True  0.431  0.494   \n",
       "\n",
       "     pos  compound  sentiment  \n",
       "0  0.000    0.0000    neutral  \n",
       "1  0.000   -0.5574   negative  \n",
       "2  0.286    0.4767   positive  \n",
       "3  0.075   -0.9287   negative  \n",
       "\n",
       "[4 rows x 21 columns]"
      ]
     },
     "execution_count": 235,
     "metadata": {},
     "output_type": "execute_result"
    }
   ],
   "source": [
    "# Create new variable with sentiment \"neutral,\" \"positive\" and \"negative\"\n",
    "data['sentiment'] = data['compound'].apply(lambda x: 'positive' if x>0 else 'neutral' if x==0 else 'negative')\n",
    "data.head(4)"
   ]
  },
  {
   "cell_type": "markdown",
   "metadata": {},
   "source": [
    "### Analyze data\n"
   ]
  },
  {
   "cell_type": "code",
   "execution_count": 236,
   "metadata": {},
   "outputs": [
    {
     "data": {
      "text/plain": [
       "array([575152349, '2022-06-16 18:58:50+00:00', '3206c3452acf92f7',\n",
       "       1537510025970831361, 'en', 1, 0, 0, 0, 'Twitter for Android',\n",
       "       'as winners of a charity award last year (best training and education charity) we are attending the charity awards 2022. \\n\\ngood luck to all the nominated charities. we are delighted to be able to celebrate the incredible work charities do throughout the uk\\n\\n#charityawards #london https://t.co/elt00ekriw',\n",
       "       list(['winners', 'charity', 'award', 'last', 'year', 'best', 'training', 'education', 'charity', 'attending', 'charity', 'awards', '2022', 'good', 'luck', 'nominated', 'charities', 'delighted', 'able', 'celebrate', 'incredible', 'work', 'charities', 'throughout', 'uk', 'charityawards', 'london', 'co', 'elt00ekriw']),\n",
       "       'winners charity award last year best training education charity attending charity awards 2022 good luck nominated charities delighted able celebrate incredible work charities throughout charityawards london elt00ekriw',\n",
       "       'winners charity award last year best training education charity attending charity awards 2022 good luck nominated charities delighted able celebrate incredible work charities throughout charityawards london elt00ekriw',\n",
       "       'winners charity award last year best training education charity attending charity awards 2022 good luck nominated charities delighted able celebrate incredible work charities throughout charityawards london elt00ekriw',\n",
       "       True, 0.0, 0.252, 0.748, 0.9909, 'positive'], dtype=object)"
      ]
     },
     "execution_count": 236,
     "metadata": {},
     "output_type": "execute_result"
    }
   ],
   "source": [
    "# Tweet with highest positive sentiment\n",
    "data.loc[data['compound'].idxmax()].values"
   ]
  },
  {
   "cell_type": "code",
   "execution_count": 237,
   "metadata": {},
   "outputs": [
    {
     "data": {
      "text/plain": [
       "array([474038706, '2020-08-02 19:46:00+00:00', '20bc436b37c1b13a',\n",
       "       1290010985428746240, 'en', 1, 0, 1, 0, 'Twitter for iPhone',\n",
       "       '@casuallyattired @superleague @saints1890 gang crime goes deeper into politics. you have a broken system. bad schools =poor/no education =poor/no jobs = no money =desperate /sad people=drug trade = violence =death . poor housing 4poor people =slums =crime=gangs=violence =death. iyou have no options',\n",
       "       list(['casuallyattired', 'superleague', 'saints1890', 'gang', 'crime', 'goes', 'deeper', 'politics', 'broken', 'system', 'bad', 'schools', 'poor', 'education', 'poor', 'jobs', 'money', 'desperate', 'sad', 'people', 'drug', 'trade', 'violence', 'death', 'poor', 'housing', '4poor', 'people', 'slums', 'crime', 'gangs', 'violence', 'death', 'iyou', 'options']),\n",
       "       'casuallyattired superleague saints1890 gang crime goes deeper politics broken system bad schools poor education poor jobs money desperate sad people drug trade violence death poor housing 4poor people slums crime gangs violence death iyou options',\n",
       "       'casuallyattired superleague saints1890 gang crime goes deeper politics broken system bad schools poor education poor jobs money desperate sad people drug trade violence death poor housing 4poor people slums crime gangs violence death iyou options',\n",
       "       'casuallyattired superleague saints1890 gang crime goes deeper politics broken system bad schools poor education poor jobs money desperate sad people drug trade violence death poor housing 4poor people slums crime gangs violence death iyou options',\n",
       "       True, 0.668, 0.332, 0.0, -0.9924, 'negative'], dtype=object)"
      ]
     },
     "execution_count": 237,
     "metadata": {},
     "output_type": "execute_result"
    }
   ],
   "source": [
    "# Tweet with highest negative sentiment \n",
    "# ...seems to be a case of wrong classification because of the word \"deficit\"\n",
    "data.loc[data['compound'].idxmin()].values"
   ]
  },
  {
   "cell_type": "markdown",
   "metadata": {},
   "source": [
    "### Visualize data"
   ]
  },
  {
   "cell_type": "code",
   "execution_count": 241,
   "metadata": {},
   "outputs": [
    {
     "data": {
      "image/png": "[encoded data removed]",
      "text/plain": [
       "<Figure size 432x288 with 1 Axes>"
      ]
     },
     "metadata": {},
     "output_type": "display_data"
    }
   ],
   "source": [
    "\n",
    "# Number of tweets \n",
    "sns.countplot(y='sentiment', \n",
    "             data=data, \n",
    "             palette=['yellow','red', 'green']\n",
    "             );"
   ]
  },
  {
   "cell_type": "code",
   "execution_count": 239,
   "metadata": {},
   "outputs": [
    {
     "data": {
      "image/png": "[encoded data removed]",
      "text/plain": [
       "<Figure size 432x288 with 1 Axes>"
      ]
     },
     "metadata": {},
     "output_type": "display_data"
    }
   ],
   "source": [
    "# Lineplot\n",
    "g = sns.lineplot(x='sentiment', y='sentiment', data=data)\n",
    "\n",
    "g.set(xticklabels=[])\n",
    "g.set(title='Sentiment of Tweets')\n",
    "# g.set(xlabel=\"Sentiment\")\n",
    "# g.set(ylabel=\"Sentiment\")\n",
    "g.tick_params(bottom=False)\n",
    "\n",
    "g.axhline(0, ls='--', c = 'grey');"
   ]
  },
  {
   "cell_type": "code",
   "execution_count": 240,
   "metadata": {},
   "outputs": [
    {
     "data": {
      "image/png": "[encoded data removed]",
      "text/plain": [
       "<Figure size 432x288 with 1 Axes>"
      ]
     },
     "metadata": {},
     "output_type": "display_data"
    }
   ],
   "source": [
    "# Boxplot\n",
    "sns.boxplot(y='compound', \n",
    "            x='sentiment',\n",
    "            palette=['yellow','red', 'green'],\n",
    "            data=data);"
   ]
  },
  {
   "cell_type": "code",
   "execution_count": null,
   "metadata": {},
   "outputs": [],
   "source": []
  }
 ],
 "metadata": {
  "kernelspec": {
   "display_name": "Python 3.8.13 ('base')",
   "language": "python",
   "name": "python3"
  },
  "language_info": {
   "codemirror_mode": {
    "name": "ipython",
    "version": 3
   },
   "file_extension": ".py",
   "mimetype": "text/x-python",
   "name": "python",
   "nbconvert_exporter": "python",
   "pygments_lexer": "ipython3",
   "version": "3.8.13"
  },
  "orig_nbformat": 4,
  "vscode": {
   "interpreter": {
    "hash": "5d3878fddc9c46165445784a10b090b010bb1a0b9835785e50e8f56ead986c33"
   }
  }
 },
 "nbformat": 4,
 "nbformat_minor": 2
}
