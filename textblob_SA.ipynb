{
 "cells": [
  {
   "cell_type": "code",
   "execution_count": 38,
   "metadata": {},
   "outputs": [],
   "source": [
    "import pandas as pd\n",
    "import matplotlib.pyplot as plt\n",
    "import re\n",
    "from textblob import TextBlob\n",
    "import numpy as np\n",
    "import seaborn as sns\n",
    "import plotly.express as px"
   ]
  },
  {
   "cell_type": "code",
   "execution_count": 5,
   "metadata": {},
   "outputs": [],
   "source": [
    "data = pd.read_csv('./data.csv')"
   ]
  },
  {
   "cell_type": "code",
   "execution_count": 6,
   "metadata": {},
   "outputs": [
    {
     "data": {
      "text/html": [
       "<div>\n",
       "<style scoped>\n",
       "    .dataframe tbody tr th:only-of-type {\n",
       "        vertical-align: middle;\n",
       "    }\n",
       "\n",
       "    .dataframe tbody tr th {\n",
       "        vertical-align: top;\n",
       "    }\n",
       "\n",
       "    .dataframe thead th {\n",
       "        text-align: right;\n",
       "    }\n",
       "</style>\n",
       "<table border=\"1\" class=\"dataframe\">\n",
       "  <thead>\n",
       "    <tr style=\"text-align: right;\">\n",
       "      <th></th>\n",
       "      <th>author id</th>\n",
       "      <th>created_at</th>\n",
       "      <th>geo</th>\n",
       "      <th>id</th>\n",
       "      <th>lang</th>\n",
       "      <th>like_count</th>\n",
       "      <th>quote_count</th>\n",
       "      <th>reply_count</th>\n",
       "      <th>retweet_count</th>\n",
       "      <th>source</th>\n",
       "      <th>tweet</th>\n",
       "    </tr>\n",
       "  </thead>\n",
       "  <tbody>\n",
       "    <tr>\n",
       "      <th>27726</th>\n",
       "      <td>33289415</td>\n",
       "      <td>2022-07-25 17:58:16+00:00</td>\n",
       "      <td>0af014accd6f6e99</td>\n",
       "      <td>1551627912062926850</td>\n",
       "      <td>en</td>\n",
       "      <td>6</td>\n",
       "      <td>0</td>\n",
       "      <td>6</td>\n",
       "      <td>0</td>\n",
       "      <td>Twitter for iPhone</td>\n",
       "      <td>@ScotNational Easy.\\n\\nDevolve what has always...</td>\n",
       "    </tr>\n",
       "    <tr>\n",
       "      <th>27727</th>\n",
       "      <td>2980250451</td>\n",
       "      <td>2022-07-25 17:34:26+00:00</td>\n",
       "      <td>612fbfbb701b1d3a</td>\n",
       "      <td>1551621911918018561</td>\n",
       "      <td>en</td>\n",
       "      <td>0</td>\n",
       "      <td>0</td>\n",
       "      <td>1</td>\n",
       "      <td>0</td>\n",
       "      <td>Twitter for Android</td>\n",
       "      <td>@linaire_mcrae @2351onthelist @dmck52 @bumptio...</td>\n",
       "    </tr>\n",
       "    <tr>\n",
       "      <th>27728</th>\n",
       "      <td>846302397311959041</td>\n",
       "      <td>2022-07-25 16:03:08+00:00</td>\n",
       "      <td>1b676cd4b8a8684a</td>\n",
       "      <td>1551598936951033858</td>\n",
       "      <td>en</td>\n",
       "      <td>2</td>\n",
       "      <td>1</td>\n",
       "      <td>0</td>\n",
       "      <td>0</td>\n",
       "      <td>Twitter for iPhone</td>\n",
       "      <td>First day of our summer @Adventures_22 Holiday...</td>\n",
       "    </tr>\n",
       "    <tr>\n",
       "      <th>27729</th>\n",
       "      <td>4755149428</td>\n",
       "      <td>2022-07-25 15:10:51+00:00</td>\n",
       "      <td>1aca7d8a9c3faae1</td>\n",
       "      <td>1551585779650105349</td>\n",
       "      <td>en</td>\n",
       "      <td>3</td>\n",
       "      <td>0</td>\n",
       "      <td>0</td>\n",
       "      <td>1</td>\n",
       "      <td>Twitter for Android</td>\n",
       "      <td>@ErdmuteD Quite right.  A largly apathetic, po...</td>\n",
       "    </tr>\n",
       "    <tr>\n",
       "      <th>27730</th>\n",
       "      <td>15997703</td>\n",
       "      <td>2022-07-25 14:53:36+00:00</td>\n",
       "      <td>4393349f368f67a1</td>\n",
       "      <td>1551581436766978048</td>\n",
       "      <td>en</td>\n",
       "      <td>99</td>\n",
       "      <td>4</td>\n",
       "      <td>11</td>\n",
       "      <td>12</td>\n",
       "      <td>Twitter for iPhone</td>\n",
       "      <td>As someone with a Masters in Chinese (I know, ...</td>\n",
       "    </tr>\n",
       "  </tbody>\n",
       "</table>\n",
       "</div>"
      ],
      "text/plain": [
       "                author id                 created_at               geo  \\\n",
       "27726            33289415  2022-07-25 17:58:16+00:00  0af014accd6f6e99   \n",
       "27727          2980250451  2022-07-25 17:34:26+00:00  612fbfbb701b1d3a   \n",
       "27728  846302397311959041  2022-07-25 16:03:08+00:00  1b676cd4b8a8684a   \n",
       "27729          4755149428  2022-07-25 15:10:51+00:00  1aca7d8a9c3faae1   \n",
       "27730            15997703  2022-07-25 14:53:36+00:00  4393349f368f67a1   \n",
       "\n",
       "                        id lang like_count quote_count reply_count  \\\n",
       "27726  1551627912062926850   en          6           0           6   \n",
       "27727  1551621911918018561   en          0           0           1   \n",
       "27728  1551598936951033858   en          2           1           0   \n",
       "27729  1551585779650105349   en          3           0           0   \n",
       "27730  1551581436766978048   en         99           4          11   \n",
       "\n",
       "      retweet_count               source  \\\n",
       "27726             0   Twitter for iPhone   \n",
       "27727             0  Twitter for Android   \n",
       "27728             0   Twitter for iPhone   \n",
       "27729             1  Twitter for Android   \n",
       "27730            12   Twitter for iPhone   \n",
       "\n",
       "                                                   tweet  \n",
       "27726  @ScotNational Easy.\\n\\nDevolve what has always...  \n",
       "27727  @linaire_mcrae @2351onthelist @dmck52 @bumptio...  \n",
       "27728  First day of our summer @Adventures_22 Holiday...  \n",
       "27729  @ErdmuteD Quite right.  A largly apathetic, po...  \n",
       "27730  As someone with a Masters in Chinese (I know, ...  "
      ]
     },
     "execution_count": 6,
     "metadata": {},
     "output_type": "execute_result"
    }
   ],
   "source": [
    "data.tail()"
   ]
  },
  {
   "cell_type": "code",
   "execution_count": 7,
   "metadata": {},
   "outputs": [],
   "source": [
    "def clean_tweet(tweet):\n",
    "  '''\n",
    "  Utility function to clean tweet text by removing links, special characters\n",
    "  using simple regex statements.\n",
    "  '''\n",
    "  return ' '.join(re.sub(\"(@[A-Za-z0-9]+)|([^0-9A-Za-z \\t])|(\\w+:\\/\\/\\S+)\", \" \", tweet).split())"
   ]
  },
  {
   "cell_type": "code",
   "execution_count": 8,
   "metadata": {},
   "outputs": [],
   "source": [
    "tweet_data = np.array(data.tweet)\n",
    "cleaned_tweet_data = []\n",
    "for tweet in tweet_data:\n",
    "  cleaned_tweet_data.append(clean_tweet(tweet))\n"
   ]
  },
  {
   "cell_type": "code",
   "execution_count": 9,
   "metadata": {},
   "outputs": [
    {
     "data": {
      "text/plain": [
       "'We are delighted to be partnering once again with to offer both the Leading EDI and Inclusive Curriculum pathways this Autumn More info here or contact me directly for more info Education EduLead'"
      ]
     },
     "execution_count": 9,
     "metadata": {},
     "output_type": "execute_result"
    }
   ],
   "source": [
    "cleaned_tweet_data[101]"
   ]
  },
  {
   "cell_type": "code",
   "execution_count": 10,
   "metadata": {},
   "outputs": [],
   "source": [
    "def get_tweet_sentiment(tweet):\n",
    "  '''\n",
    "  Utility function to classify sentiment of passed tweet\n",
    "  using textblob's sentiment method\n",
    "  '''\n",
    "  # create TextBlob object of passed tweet text\n",
    "  analysis = TextBlob(clean_tweet(tweet))\n",
    "  # set sentiment\n",
    "  if analysis.sentiment.polarity > 0:\n",
    "    return 'positive'\n",
    "  elif analysis.sentiment.polarity == 0:\n",
    "    return 'neutral'\n",
    "  else:\n",
    "    return 'negative'"
   ]
  },
  {
   "cell_type": "code",
   "execution_count": 11,
   "metadata": {},
   "outputs": [],
   "source": [
    "def append_tweets_sentiments(tweet):\n",
    "   # empty list to store parsed tweets\n",
    "  tweets = []\n",
    "  # empty dictionary to store required params of a tweet\n",
    "  parsed_tweets = {}\n",
    "  # saving text of tweet\n",
    "  parsed_tweets['text'] = tweet\n",
    "  # saving sentiment of tweet\n",
    "  parsed_tweets['sentiment'] = get_tweet_sentiment(tweet)\n",
    "\n",
    "  # appending parsed tweet to tweets list\n",
    "  tweets.append(parsed_tweets)\n",
    "  return parsed_tweets\n",
    "  "
   ]
  },
  {
   "cell_type": "code",
   "execution_count": 25,
   "metadata": {},
   "outputs": [],
   "source": [
    "def sentiment_analysis():\n",
    "  tweets = []\n",
    "  # calling function to get tweets\n",
    "  for tweet in cleaned_tweet_data:\n",
    "    tweets.append(append_tweets_sentiments(tweet))\n",
    "  # print(tweets)\n",
    "  # picking positive tweets from tweets\n",
    "  ptweets = [tweet for tweet in tweets if tweet['sentiment'] == 'positive']\n",
    "  # percentage of positive tweets\n",
    "  percent_ptweets = (100*len(ptweets)/len(tweets))\n",
    "  print(\"Positive tweets percentage: {} %\".format(percent_ptweets))\n",
    "  # picking negative tweets from tweets\n",
    "  ntweets = [tweet for tweet in tweets if tweet['sentiment'] == 'negative']\n",
    "  # percentage of negative tweets\n",
    "  percent_ntweets = (100*len(ntweets)/len(tweets))\n",
    "  print(\"Negative tweets percentage: {} %\".format(percent_ntweets))\n",
    "  # percentage of neutral tweets\n",
    "  percent_neutraltweets = (100*(len(tweets) - (len( ntweets )+len( ptweets)))/len(tweets))\n",
    "  print(\"Neutral tweets percentage: {} %\".format(percent_neutraltweets))\n",
    "\n",
    "  # printing first 5 positive tweets\n",
    "  print(\"\\n\\nPositive tweets:\")\n",
    "  for tweet in ptweets[:10]:\n",
    "    print(tweet['text'])\n",
    "\n",
    "  # printing first 5 negative tweets\n",
    "  print(\"\\n\\nNegative tweets:\")\n",
    "  for tweet in ntweets[:10]:\n",
    "    print(tweet['text'])\n",
    "  \n",
    "  return {\n",
    "    'sentiments': ['positive', 'negative', 'neutral'],\n",
    "    'percentages': [percent_ptweets, percent_ntweets, percent_neutraltweets]\n",
    "  }"
   ]
  },
  {
   "cell_type": "code",
   "execution_count": 26,
   "metadata": {},
   "outputs": [
    {
     "name": "stdout",
     "output_type": "stream",
     "text": [
      "Positive tweets percentage: 60.84165735097905 %\n",
      "Negative tweets percentage: 18.939093433341746 %\n",
      "Neutral tweets percentage: 20.219249215679202 %\n",
      "\n",
      "\n",
      "Positive tweets:\n",
      "OK never heard of this cc I had heard of the Institute of Continuing Education this seems less formal\n",
      "Sadly very true We need a big shake up of the system starting with abolishing grammar schools and selective education It s amazing it still exists\n",
      "Thanks to institutional racism amp discrimination lack of funding poverty poor educational standards amp the contempt shown by the establishment against the white skinned majority 87 of Brits are being squeezed out of elite education Unis need to reflect UK society\n",
      "Job opportunity We need a new Head of Education to lead our Education directorate and build on the amazing work of and help develop education for our profession Check out the link for more information\n",
      "I m always amazed by people who decry selective education at 11 but support a system that makes selection its primary goal at 16 and 18 Not supporting expanding grammars but genuinely interested where the differences are here\n",
      "Thanks to for running this story on important research by MarieDay looking at the barriers neurodivergent children face in education and justice systems\n",
      "One thing for sure he ought to be well educated the Finns have the best education system in the world\n",
      "Imaging That s wonderful so pleased to have provided the opportunity and that the Royal Marsden Marvels gained from this education For details of next year s course please see my website just launched today\n",
      "It s standing room only for this afternoon s session on the UK s International Education Strategy chaired by featuring Sir Steve Smith with and Thanks to for a great CommonwealthGames2022 Education Day\n",
      "Would gaining a qualification in English or Maths help you in your working amp personal life Join our GCSE English amp Maths Information Day Come amp meet the team amp learn more about studying for a GCSE with us Find out more Norwich Norfolk\n",
      "\n",
      "\n",
      "Negative tweets:\n",
      "Shit education system\n",
      "Completely wrong she was making a specific criticism of the school and poor educational standards at the time most of which were under a Tory Gov As for Gove the man who has destroyed the education system single handedly\n",
      "The trouble with such a two tier education system is that it condemns children from the age of 11 to secondary modern schools not because they are not bright but because their parents don t have such expectations\n",
      "Students wanting to study maths physics or engineering at university in the UK are often pushed to do a curriculum at A level not significantly broader than single honours undergraduate mathematics I wonder if this might astonish Americans in particular\n",
      "Hi parking in Roath cathays is a nightmare for residents Permit bays filled up with non resident suvs BMWs and it s worse when the students are here Is there any reason why every single space is not a resident permit bay\n",
      "Everything that s wrong with 2022 in one tweet Education system needs a serious revamp\n",
      "1 Unite which is the biggest trade union in the UK has Community membership for the unemployed students retired people carers etc in order to get active in their community There are groups all around the country running projects campaigning providing advice guidance amp\n",
      "for purpose education system that WE KNOW FAILS KIDS IN POVERTY Benefits system forces people into lives of desperation and mental health issues 4 LISTEN TO LIVED EXPERIENCE rather than judging them all as wasters or junkies or stupid schemies etc 5 ACCEPT RESPONSIBILITY\n",
      "That is why they are increasingly a party for well educated people with a social conscience who by virtue of that education tend to be able to get by ok They were not founded for this and it leaves millions with no real vote in our pathetic electoral system sadly\n",
      "Mr Sunak vowed to keep the North front centre of my mind in all that I do if he were to become PM in September The Richmond MP said he would double down on levelling up and identified education as a key area which could boost the region\n"
     ]
    }
   ],
   "source": [
    "returned_val = sentiment_analysis()"
   ]
  },
  {
   "cell_type": "code",
   "execution_count": 33,
   "metadata": {},
   "outputs": [
    {
     "data": {
      "text/html": [
       "<div>\n",
       "<style scoped>\n",
       "    .dataframe tbody tr th:only-of-type {\n",
       "        vertical-align: middle;\n",
       "    }\n",
       "\n",
       "    .dataframe tbody tr th {\n",
       "        vertical-align: top;\n",
       "    }\n",
       "\n",
       "    .dataframe thead th {\n",
       "        text-align: right;\n",
       "    }\n",
       "</style>\n",
       "<table border=\"1\" class=\"dataframe\">\n",
       "  <thead>\n",
       "    <tr style=\"text-align: right;\">\n",
       "      <th></th>\n",
       "      <th>sentiments</th>\n",
       "      <th>percentages</th>\n",
       "    </tr>\n",
       "  </thead>\n",
       "  <tbody>\n",
       "    <tr>\n",
       "      <th>0</th>\n",
       "      <td>positive</td>\n",
       "      <td>60.841657</td>\n",
       "    </tr>\n",
       "    <tr>\n",
       "      <th>1</th>\n",
       "      <td>negative</td>\n",
       "      <td>18.939093</td>\n",
       "    </tr>\n",
       "    <tr>\n",
       "      <th>2</th>\n",
       "      <td>neutral</td>\n",
       "      <td>20.219249</td>\n",
       "    </tr>\n",
       "  </tbody>\n",
       "</table>\n",
       "</div>"
      ],
      "text/plain": [
       "  sentiments  percentages\n",
       "0   positive    60.841657\n",
       "1   negative    18.939093\n",
       "2    neutral    20.219249"
      ]
     },
     "execution_count": 33,
     "metadata": {},
     "output_type": "execute_result"
    }
   ],
   "source": [
    "sentiments_df = pd.DataFrame(returned_val)\n",
    "sentiments_df\n"
   ]
  },
  {
   "cell_type": "code",
   "execution_count": 37,
   "metadata": {},
   "outputs": [
    {
     "data": {
      "image/png": "[encoded data removed]",
      "text/plain": [
       "<Figure size 432x288 with 1 Axes>"
      ]
     },
     "metadata": {
      "needs_background": "light"
     },
     "output_type": "display_data"
    }
   ],
   "source": [
    "sns.barplot(x='percentages', y='sentiments', data=sentiments_df,\n",
    "            palette=['green', 'red', 'yellow']\n",
    ");"
   ]
  },
  {
   "cell_type": "code",
   "execution_count": null,
   "metadata": {},
   "outputs": [],
   "source": [
    "fig = px.bar()"
   ]
  }
 ],
 "metadata": {
  "kernelspec": {
   "display_name": "Python 3.8.13 ('base')",
   "language": "python",
   "name": "python3"
  },
  "language_info": {
   "codemirror_mode": {
    "name": "ipython",
    "version": 3
   },
   "file_extension": ".py",
   "mimetype": "text/x-python",
   "name": "python",
   "nbconvert_exporter": "python",
   "pygments_lexer": "ipython3",
   "version": "3.8.13"
  },
  "orig_nbformat": 4,
  "vscode": {
   "interpreter": {
    "hash": "5d3878fddc9c46165445784a10b090b010bb1a0b9835785e50e8f56ead986c33"
   }
  }
 },
 "nbformat": 4,
 "nbformat_minor": 2
}
