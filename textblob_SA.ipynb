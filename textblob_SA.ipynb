{
 "cells": [
  {
   "cell_type": "code",
   "execution_count": 98,
   "metadata": {},
   "outputs": [],
   "source": [
    "import pandas as pd\n",
    "import matplotlib.pyplot as plt\n",
    "import re\n",
    "from textblob import TextBlob\n",
    "import numpy as np"
   ]
  },
  {
   "cell_type": "code",
   "execution_count": 99,
   "metadata": {},
   "outputs": [],
   "source": [
    "data = pd.read_csv('./data.csv')"
   ]
  },
  {
   "cell_type": "code",
   "execution_count": 101,
   "metadata": {},
   "outputs": [
    {
     "data": {
      "text/html": [
       "<div>\n",
       "<style scoped>\n",
       "    .dataframe tbody tr th:only-of-type {\n",
       "        vertical-align: middle;\n",
       "    }\n",
       "\n",
       "    .dataframe tbody tr th {\n",
       "        vertical-align: top;\n",
       "    }\n",
       "\n",
       "    .dataframe thead th {\n",
       "        text-align: right;\n",
       "    }\n",
       "</style>\n",
       "<table border=\"1\" class=\"dataframe\">\n",
       "  <thead>\n",
       "    <tr style=\"text-align: right;\">\n",
       "      <th></th>\n",
       "      <th>author id</th>\n",
       "      <th>created_at</th>\n",
       "      <th>geo</th>\n",
       "      <th>id</th>\n",
       "      <th>lang</th>\n",
       "      <th>like_count</th>\n",
       "      <th>quote_count</th>\n",
       "      <th>reply_count</th>\n",
       "      <th>retweet_count</th>\n",
       "      <th>source</th>\n",
       "      <th>tweet</th>\n",
       "    </tr>\n",
       "  </thead>\n",
       "  <tbody>\n",
       "    <tr>\n",
       "      <th>27629</th>\n",
       "      <td>96099375</td>\n",
       "      <td>2019-10-01 06:42:24+00:00</td>\n",
       "      <td>7ae9e2f2ff7a87cd</td>\n",
       "      <td>1178923097002577924</td>\n",
       "      <td>en</td>\n",
       "      <td>15</td>\n",
       "      <td>1</td>\n",
       "      <td>3</td>\n",
       "      <td>8</td>\n",
       "      <td>Twitter for Android</td>\n",
       "      <td>'Some roles are simply “unlikely to obtain a w...</td>\n",
       "    </tr>\n",
       "    <tr>\n",
       "      <th>27630</th>\n",
       "      <td>19528365</td>\n",
       "      <td>2019-10-01 06:39:32+00:00</td>\n",
       "      <td>604492c5e49c512b</td>\n",
       "      <td>1178922378329546752</td>\n",
       "      <td>en</td>\n",
       "      <td>0</td>\n",
       "      <td>0</td>\n",
       "      <td>0</td>\n",
       "      <td>0</td>\n",
       "      <td>Twitter for Android</td>\n",
       "      <td>So much for #globalbritain https://t.co/XvFTOv...</td>\n",
       "    </tr>\n",
       "    <tr>\n",
       "      <th>27631</th>\n",
       "      <td>226565998</td>\n",
       "      <td>2019-10-01 05:15:06+00:00</td>\n",
       "      <td>208d28e57bdc12e9</td>\n",
       "      <td>1178901127221387265</td>\n",
       "      <td>en</td>\n",
       "      <td>2</td>\n",
       "      <td>0</td>\n",
       "      <td>0</td>\n",
       "      <td>0</td>\n",
       "      <td>Twitter for iPhone</td>\n",
       "      <td>Parents of year 6 pupils... thinking about #We...</td>\n",
       "    </tr>\n",
       "    <tr>\n",
       "      <th>27632</th>\n",
       "      <td>296796716</td>\n",
       "      <td>2019-10-01 04:52:15+00:00</td>\n",
       "      <td>7d7bdec12d2549d4</td>\n",
       "      <td>1178895377778561028</td>\n",
       "      <td>en</td>\n",
       "      <td>11</td>\n",
       "      <td>0</td>\n",
       "      <td>3</td>\n",
       "      <td>3</td>\n",
       "      <td>Twitter for iPhone</td>\n",
       "      <td>Announcing another 12 Institutes of Technology...</td>\n",
       "    </tr>\n",
       "    <tr>\n",
       "      <th>27633</th>\n",
       "      <td>2411542681</td>\n",
       "      <td>2019-10-01 00:08:59+00:00</td>\n",
       "      <td>3b291275e7663301</td>\n",
       "      <td>1178824092885106688</td>\n",
       "      <td>en</td>\n",
       "      <td>1</td>\n",
       "      <td>0</td>\n",
       "      <td>0</td>\n",
       "      <td>0</td>\n",
       "      <td>Twitter for iPhone</td>\n",
       "      <td>Last week we held our annual University Fair. ...</td>\n",
       "    </tr>\n",
       "  </tbody>\n",
       "</table>\n",
       "</div>"
      ],
      "text/plain": [
       "        author id                 created_at               geo  \\\n",
       "27629    96099375  2019-10-01 06:42:24+00:00  7ae9e2f2ff7a87cd   \n",
       "27630    19528365  2019-10-01 06:39:32+00:00  604492c5e49c512b   \n",
       "27631   226565998  2019-10-01 05:15:06+00:00  208d28e57bdc12e9   \n",
       "27632   296796716  2019-10-01 04:52:15+00:00  7d7bdec12d2549d4   \n",
       "27633  2411542681  2019-10-01 00:08:59+00:00  3b291275e7663301   \n",
       "\n",
       "                        id lang  like_count  quote_count  reply_count  \\\n",
       "27629  1178923097002577924   en          15            1            3   \n",
       "27630  1178922378329546752   en           0            0            0   \n",
       "27631  1178901127221387265   en           2            0            0   \n",
       "27632  1178895377778561028   en          11            0            3   \n",
       "27633  1178824092885106688   en           1            0            0   \n",
       "\n",
       "       retweet_count               source  \\\n",
       "27629              8  Twitter for Android   \n",
       "27630              0  Twitter for Android   \n",
       "27631              0   Twitter for iPhone   \n",
       "27632              3   Twitter for iPhone   \n",
       "27633              0   Twitter for iPhone   \n",
       "\n",
       "                                                   tweet  \n",
       "27629  'Some roles are simply “unlikely to obtain a w...  \n",
       "27630  So much for #globalbritain https://t.co/XvFTOv...  \n",
       "27631  Parents of year 6 pupils... thinking about #We...  \n",
       "27632  Announcing another 12 Institutes of Technology...  \n",
       "27633  Last week we held our annual University Fair. ...  "
      ]
     },
     "execution_count": 101,
     "metadata": {},
     "output_type": "execute_result"
    }
   ],
   "source": [
    "data.tail()"
   ]
  },
  {
   "cell_type": "code",
   "execution_count": 102,
   "metadata": {},
   "outputs": [],
   "source": [
    "def clean_tweet(tweet):\n",
    "  '''\n",
    "  Utility function to clean tweet text by removing links, special characters\n",
    "  using simple regex statements.\n",
    "  '''\n",
    "  return ' '.join(re.sub(\"(@[A-Za-z0-9]+)|([^0-9A-Za-z \\t])|(\\w+:\\/\\/\\S+)\", \" \", tweet).split())"
   ]
  },
  {
   "cell_type": "code",
   "execution_count": 103,
   "metadata": {},
   "outputs": [],
   "source": [
    "tweet_data = np.array(data.tweet)\n",
    "cleaned_tweet_data = []\n",
    "for tweet in tweet_data:\n",
    "  cleaned_tweet_data.append(clean_tweet(tweet))\n"
   ]
  },
  {
   "cell_type": "code",
   "execution_count": 104,
   "metadata": {},
   "outputs": [
    {
     "data": {
      "text/plain": [
       "'We are delighted to be partnering once again with to offer both the Leading EDI and Inclusive Curriculum pathways this Autumn More info here or contact me directly for more info Education EduLead'"
      ]
     },
     "execution_count": 104,
     "metadata": {},
     "output_type": "execute_result"
    }
   ],
   "source": [
    "cleaned_tweet_data[101]"
   ]
  },
  {
   "cell_type": "code",
   "execution_count": 105,
   "metadata": {},
   "outputs": [],
   "source": [
    "def get_tweet_sentiment(tweet):\n",
    "  '''\n",
    "  Utility function to classify sentiment of passed tweet\n",
    "  using textblob's sentiment method\n",
    "  '''\n",
    "  # create TextBlob object of passed tweet text\n",
    "  analysis = TextBlob(clean_tweet(tweet))\n",
    "  # set sentiment\n",
    "  if analysis.sentiment.polarity > 0:\n",
    "    return 'positive'\n",
    "  elif analysis.sentiment.polarity == 0:\n",
    "    return 'neutral'\n",
    "  else:\n",
    "    return 'negative'"
   ]
  },
  {
   "cell_type": "code",
   "execution_count": 106,
   "metadata": {},
   "outputs": [],
   "source": [
    "def append_tweets_sentiments(tweet):\n",
    "   # empty list to store parsed tweets\n",
    "  tweets = []\n",
    "  # empty dictionary to store required params of a tweet\n",
    "  parsed_tweets = {}\n",
    "  # saving text of tweet\n",
    "  parsed_tweets['text'] = tweet\n",
    "  # saving sentiment of tweet\n",
    "  parsed_tweets['sentiment'] = get_tweet_sentiment(tweet)\n",
    "\n",
    "  # appending parsed tweet to tweets list\n",
    "  tweets.append(parsed_tweets)\n",
    "  return parsed_tweets\n",
    "  "
   ]
  },
  {
   "cell_type": "code",
   "execution_count": 107,
   "metadata": {},
   "outputs": [],
   "source": [
    "def sentiment_analysis():\n",
    "  tweets = []\n",
    "  # calling function to get tweets\n",
    "  for tweet in cleaned_tweet_data:\n",
    "    tweets.append(append_tweets_sentiments(tweet))\n",
    "  # print(tweets)\n",
    "  # picking positive tweets from tweets\n",
    "  ptweets = [tweet for tweet in tweets if tweet['sentiment'] == 'positive']\n",
    "  # percentage of positive tweets\n",
    "  print(\"Positive tweets percentage: {} %\".format(100*len(ptweets)/len(tweets)))\n",
    "  # picking negative tweets from tweets\n",
    "  ntweets = [tweet for tweet in tweets if tweet['sentiment'] == 'negative']\n",
    "  # percentage of negative tweets\n",
    "  print(\"Negative tweets percentage: {} %\".format(100*len(ntweets)/len(tweets)))\n",
    "  # percentage of neutral tweets\n",
    "  print(\"Neutral tweets percentage: {} % \\\n",
    "    \".format(100*(len(tweets) -(len( ntweets )+len( ptweets)))/len(tweets)))\n",
    "\n",
    "  # printing first 5 positive tweets\n",
    "  print(\"\\n\\nPositive tweets:\")\n",
    "  for tweet in ptweets[:10]:\n",
    "    print(tweet['text'])\n",
    "\n",
    "  # printing first 5 negative tweets\n",
    "  print(\"\\n\\nNegative tweets:\")\n",
    "  for tweet in ntweets[:10]:\n",
    "    print(tweet['text'])"
   ]
  },
  {
   "cell_type": "code",
   "execution_count": 108,
   "metadata": {},
   "outputs": [
    {
     "name": "stdout",
     "output_type": "stream",
     "text": [
      "Positive tweets percentage: 60.83809799522328 %\n",
      "Negative tweets percentage: 18.95491061735543 %\n",
      "Neutral tweets percentage: 20.206991387421294 %     \n",
      "\n",
      "\n",
      "Positive tweets:\n",
      "OK never heard of this cc I had heard of the Institute of Continuing Education this seems less formal\n",
      "Sadly very true We need a big shake up of the system starting with abolishing grammar schools and selective education It s amazing it still exists\n",
      "Thanks to institutional racism amp discrimination lack of funding poverty poor educational standards amp the contempt shown by the establishment against the white skinned majority 87 of Brits are being squeezed out of elite education Unis need to reflect UK society\n",
      "Job opportunity We need a new Head of Education to lead our Education directorate and build on the amazing work of and help develop education for our profession Check out the link for more information\n",
      "I m always amazed by people who decry selective education at 11 but support a system that makes selection its primary goal at 16 and 18 Not supporting expanding grammars but genuinely interested where the differences are here\n",
      "Thanks to for running this story on important research by MarieDay looking at the barriers neurodivergent children face in education and justice systems\n",
      "One thing for sure he ought to be well educated the Finns have the best education system in the world\n",
      "Imaging That s wonderful so pleased to have provided the opportunity and that the Royal Marsden Marvels gained from this education For details of next year s course please see my website just launched today\n",
      "It s standing room only for this afternoon s session on the UK s International Education Strategy chaired by featuring Sir Steve Smith with and Thanks to for a great CommonwealthGames2022 Education Day\n",
      "Would gaining a qualification in English or Maths help you in your working amp personal life Join our GCSE English amp Maths Information Day Come amp meet the team amp learn more about studying for a GCSE with us Find out more Norwich Norfolk\n",
      "\n",
      "\n",
      "Negative tweets:\n",
      "Shit education system\n",
      "Completely wrong she was making a specific criticism of the school and poor educational standards at the time most of which were under a Tory Gov As for Gove the man who has destroyed the education system single handedly\n",
      "The trouble with such a two tier education system is that it condemns children from the age of 11 to secondary modern schools not because they are not bright but because their parents don t have such expectations\n",
      "Students wanting to study maths physics or engineering at university in the UK are often pushed to do a curriculum at A level not significantly broader than single honours undergraduate mathematics I wonder if this might astonish Americans in particular\n",
      "Hi parking in Roath cathays is a nightmare for residents Permit bays filled up with non resident suvs BMWs and it s worse when the students are here Is there any reason why every single space is not a resident permit bay\n",
      "Everything that s wrong with 2022 in one tweet Education system needs a serious revamp\n",
      "1 Unite which is the biggest trade union in the UK has Community membership for the unemployed students retired people carers etc in order to get active in their community There are groups all around the country running projects campaigning providing advice guidance amp\n",
      "for purpose education system that WE KNOW FAILS KIDS IN POVERTY Benefits system forces people into lives of desperation and mental health issues 4 LISTEN TO LIVED EXPERIENCE rather than judging them all as wasters or junkies or stupid schemies etc 5 ACCEPT RESPONSIBILITY\n",
      "That is why they are increasingly a party for well educated people with a social conscience who by virtue of that education tend to be able to get by ok They were not founded for this and it leaves millions with no real vote in our pathetic electoral system sadly\n",
      "Mr Sunak vowed to keep the North front centre of my mind in all that I do if he were to become PM in September The Richmond MP said he would double down on levelling up and identified education as a key area which could boost the region\n"
     ]
    }
   ],
   "source": [
    "sentiment_analysis()"
   ]
  },
  {
   "cell_type": "code",
   "execution_count": null,
   "metadata": {},
   "outputs": [],
   "source": []
  }
 ],
 "metadata": {
  "kernelspec": {
   "display_name": "Python 3.8.13 ('base')",
   "language": "python",
   "name": "python3"
  },
  "language_info": {
   "codemirror_mode": {
    "name": "ipython",
    "version": 3
   },
   "file_extension": ".py",
   "mimetype": "text/x-python",
   "name": "python",
   "nbconvert_exporter": "python",
   "pygments_lexer": "ipython3",
   "version": "3.8.13"
  },
  "orig_nbformat": 4,
  "vscode": {
   "interpreter": {
    "hash": "5d3878fddc9c46165445784a10b090b010bb1a0b9835785e50e8f56ead986c33"
   }
  }
 },
 "nbformat": 4,
 "nbformat_minor": 2
}
